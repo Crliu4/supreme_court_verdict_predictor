{
  "nbformat": 4,
  "nbformat_minor": 0,
  "metadata": {
    "colab": {
      "provenance": [],
      "gpuType": "T4",
      "include_colab_link": true
    },
    "kernelspec": {
      "name": "python3",
      "display_name": "Python 3"
    },
    "language_info": {
      "name": "python"
    },
    "gpuClass": "standard",
    "accelerator": "GPU"
  },
  "cells": [
    {
      "cell_type": "markdown",
      "metadata": {
        "id": "view-in-github",
        "colab_type": "text"
      },
      "source": [
        "<a href=\"https://colab.research.google.com/github/Crliu4/supreme_court_verdict_predictor/blob/main/Data_Cleaning_%26_Baseline.ipynb\" target=\"_parent\"><img src=\"https://colab.research.google.com/assets/colab-badge.svg\" alt=\"Open In Colab\"/></a>"
      ]
    },
    {
      "cell_type": "markdown",
      "source": [
        "## Supreme Court Verdict Predictor \n",
        "### Maggie Chen, Carolyn Liu, Eujene Yum"
      ],
      "metadata": {
        "id": "pzVB6Uk8keBT"
      }
    },
    {
      "cell_type": "code",
      "source": [
        "!export LC_ALL=en_US.UTF-8 && pip install scikit-learn==1.1.3\n",
        "!pip install convokit\n",
        "from convokit import Corpus, download, util"
      ],
      "metadata": {
        "id": "Of2R08VDnkUZ",
        "colab": {
          "base_uri": "https://localhost:8080/"
        },
        "outputId": "fd3c79ab-bbfd-4dfe-b640-ba71fcb1ce79"
      },
      "execution_count": null,
      "outputs": [
        {
          "output_type": "stream",
          "name": "stdout",
          "text": [
            "Looking in indexes: https://pypi.org/simple, https://us-python.pkg.dev/colab-wheels/public/simple/\n",
            "Collecting scikit-learn==1.1.3\n",
            "  Downloading scikit_learn-1.1.3-cp310-cp310-manylinux_2_17_x86_64.manylinux2014_x86_64.whl (30.5 MB)\n",
            "\u001b[2K     \u001b[90m━━━━━━━━━━━━━━━━━━━━━━━━━━━━━━━━━━━━━━━━\u001b[0m \u001b[32m30.5/30.5 MB\u001b[0m \u001b[31m18.7 MB/s\u001b[0m eta \u001b[36m0:00:00\u001b[0m\n",
            "\u001b[?25hRequirement already satisfied: numpy>=1.17.3 in /usr/local/lib/python3.10/dist-packages (from scikit-learn==1.1.3) (1.22.4)\n",
            "Requirement already satisfied: scipy>=1.3.2 in /usr/local/lib/python3.10/dist-packages (from scikit-learn==1.1.3) (1.10.1)\n",
            "Requirement already satisfied: joblib>=1.0.0 in /usr/local/lib/python3.10/dist-packages (from scikit-learn==1.1.3) (1.2.0)\n",
            "Requirement already satisfied: threadpoolctl>=2.0.0 in /usr/local/lib/python3.10/dist-packages (from scikit-learn==1.1.3) (3.1.0)\n",
            "Installing collected packages: scikit-learn\n",
            "  Attempting uninstall: scikit-learn\n",
            "    Found existing installation: scikit-learn 1.2.2\n",
            "    Uninstalling scikit-learn-1.2.2:\n",
            "      Successfully uninstalled scikit-learn-1.2.2\n",
            "Successfully installed scikit-learn-1.1.3\n",
            "Looking in indexes: https://pypi.org/simple, https://us-python.pkg.dev/colab-wheels/public/simple/\n",
            "Collecting convokit\n",
            "  Downloading convokit-2.5.3.tar.gz (167 kB)\n",
            "\u001b[2K     \u001b[90m━━━━━━━━━━━━━━━━━━━━━━━━━━━━━━━━━━━━━━━\u001b[0m \u001b[32m168.0/168.0 kB\u001b[0m \u001b[31m6.1 MB/s\u001b[0m eta \u001b[36m0:00:00\u001b[0m\n",
            "\u001b[?25h  Preparing metadata (setup.py) ... \u001b[?25l\u001b[?25hdone\n",
            "Requirement already satisfied: matplotlib>=3.0.0 in /usr/local/lib/python3.10/dist-packages (from convokit) (3.7.1)\n",
            "Requirement already satisfied: pandas>=0.23.4 in /usr/local/lib/python3.10/dist-packages (from convokit) (1.5.3)\n",
            "Collecting msgpack-numpy>=0.4.3.2 (from convokit)\n",
            "  Downloading msgpack_numpy-0.4.8-py2.py3-none-any.whl (6.9 kB)\n",
            "Requirement already satisfied: spacy>=2.3.5 in /usr/local/lib/python3.10/dist-packages (from convokit) (3.5.2)\n",
            "Requirement already satisfied: scipy>=1.1.0 in /usr/local/lib/python3.10/dist-packages (from convokit) (1.10.1)\n",
            "Requirement already satisfied: scikit-learn>=0.20.0 in /usr/local/lib/python3.10/dist-packages (from convokit) (1.1.3)\n",
            "Requirement already satisfied: nltk>=3.4 in /usr/local/lib/python3.10/dist-packages (from convokit) (3.8.1)\n",
            "Collecting dill>=0.2.9 (from convokit)\n",
            "  Downloading dill-0.3.6-py3-none-any.whl (110 kB)\n",
            "\u001b[2K     \u001b[90m━━━━━━━━━━━━━━━━━━━━━━━━━━━━━━━━━━━━━━\u001b[0m \u001b[32m110.5/110.5 kB\u001b[0m \u001b[31m15.2 MB/s\u001b[0m eta \u001b[36m0:00:00\u001b[0m\n",
            "\u001b[?25hRequirement already satisfied: joblib>=0.13.2 in /usr/local/lib/python3.10/dist-packages (from convokit) (1.2.0)\n",
            "Collecting clean-text>=0.1.1 (from convokit)\n",
            "  Downloading clean_text-0.6.0-py3-none-any.whl (11 kB)\n",
            "Collecting unidecode>=1.1.1 (from convokit)\n",
            "  Downloading Unidecode-1.3.6-py3-none-any.whl (235 kB)\n",
            "\u001b[2K     \u001b[90m━━━━━━━━━━━━━━━━━━━━━━━━━━━━━━━━━━━━━━\u001b[0m \u001b[32m235.9/235.9 kB\u001b[0m \u001b[31m18.1 MB/s\u001b[0m eta \u001b[36m0:00:00\u001b[0m\n",
            "\u001b[?25hCollecting emoji<2.0.0,>=1.0.0 (from clean-text>=0.1.1->convokit)\n",
            "  Downloading emoji-1.7.0.tar.gz (175 kB)\n",
            "\u001b[2K     \u001b[90m━━━━━━━━━━━━━━━━━━━━━━━━━━━━━━━━━━━━━━\u001b[0m \u001b[32m175.4/175.4 kB\u001b[0m \u001b[31m17.9 MB/s\u001b[0m eta \u001b[36m0:00:00\u001b[0m\n",
            "\u001b[?25h  Preparing metadata (setup.py) ... \u001b[?25l\u001b[?25hdone\n",
            "Collecting ftfy<7.0,>=6.0 (from clean-text>=0.1.1->convokit)\n",
            "  Downloading ftfy-6.1.1-py3-none-any.whl (53 kB)\n",
            "\u001b[2K     \u001b[90m━━━━━━━━━━━━━━━━━━━━━━━━━━━━━━━━━━━━━━━━\u001b[0m \u001b[32m53.1/53.1 kB\u001b[0m \u001b[31m2.7 MB/s\u001b[0m eta \u001b[36m0:00:00\u001b[0m\n",
            "\u001b[?25hRequirement already satisfied: contourpy>=1.0.1 in /usr/local/lib/python3.10/dist-packages (from matplotlib>=3.0.0->convokit) (1.0.7)\n",
            "Requirement already satisfied: cycler>=0.10 in /usr/local/lib/python3.10/dist-packages (from matplotlib>=3.0.0->convokit) (0.11.0)\n",
            "Requirement already satisfied: fonttools>=4.22.0 in /usr/local/lib/python3.10/dist-packages (from matplotlib>=3.0.0->convokit) (4.39.3)\n",
            "Requirement already satisfied: kiwisolver>=1.0.1 in /usr/local/lib/python3.10/dist-packages (from matplotlib>=3.0.0->convokit) (1.4.4)\n",
            "Requirement already satisfied: numpy>=1.20 in /usr/local/lib/python3.10/dist-packages (from matplotlib>=3.0.0->convokit) (1.22.4)\n",
            "Requirement already satisfied: packaging>=20.0 in /usr/local/lib/python3.10/dist-packages (from matplotlib>=3.0.0->convokit) (23.1)\n",
            "Requirement already satisfied: pillow>=6.2.0 in /usr/local/lib/python3.10/dist-packages (from matplotlib>=3.0.0->convokit) (8.4.0)\n",
            "Requirement already satisfied: pyparsing>=2.3.1 in /usr/local/lib/python3.10/dist-packages (from matplotlib>=3.0.0->convokit) (3.0.9)\n",
            "Requirement already satisfied: python-dateutil>=2.7 in /usr/local/lib/python3.10/dist-packages (from matplotlib>=3.0.0->convokit) (2.8.2)\n",
            "Requirement already satisfied: msgpack>=0.5.2 in /usr/local/lib/python3.10/dist-packages (from msgpack-numpy>=0.4.3.2->convokit) (1.0.5)\n",
            "Requirement already satisfied: click in /usr/local/lib/python3.10/dist-packages (from nltk>=3.4->convokit) (8.1.3)\n",
            "Requirement already satisfied: regex>=2021.8.3 in /usr/local/lib/python3.10/dist-packages (from nltk>=3.4->convokit) (2022.10.31)\n",
            "Requirement already satisfied: tqdm in /usr/local/lib/python3.10/dist-packages (from nltk>=3.4->convokit) (4.65.0)\n",
            "Requirement already satisfied: pytz>=2020.1 in /usr/local/lib/python3.10/dist-packages (from pandas>=0.23.4->convokit) (2022.7.1)\n",
            "Requirement already satisfied: threadpoolctl>=2.0.0 in /usr/local/lib/python3.10/dist-packages (from scikit-learn>=0.20.0->convokit) (3.1.0)\n",
            "Requirement already satisfied: spacy-legacy<3.1.0,>=3.0.11 in /usr/local/lib/python3.10/dist-packages (from spacy>=2.3.5->convokit) (3.0.12)\n",
            "Requirement already satisfied: spacy-loggers<2.0.0,>=1.0.0 in /usr/local/lib/python3.10/dist-packages (from spacy>=2.3.5->convokit) (1.0.4)\n",
            "Requirement already satisfied: murmurhash<1.1.0,>=0.28.0 in /usr/local/lib/python3.10/dist-packages (from spacy>=2.3.5->convokit) (1.0.9)\n",
            "Requirement already satisfied: cymem<2.1.0,>=2.0.2 in /usr/local/lib/python3.10/dist-packages (from spacy>=2.3.5->convokit) (2.0.7)\n",
            "Requirement already satisfied: preshed<3.1.0,>=3.0.2 in /usr/local/lib/python3.10/dist-packages (from spacy>=2.3.5->convokit) (3.0.8)\n",
            "Requirement already satisfied: thinc<8.2.0,>=8.1.8 in /usr/local/lib/python3.10/dist-packages (from spacy>=2.3.5->convokit) (8.1.9)\n",
            "Requirement already satisfied: wasabi<1.2.0,>=0.9.1 in /usr/local/lib/python3.10/dist-packages (from spacy>=2.3.5->convokit) (1.1.1)\n",
            "Requirement already satisfied: srsly<3.0.0,>=2.4.3 in /usr/local/lib/python3.10/dist-packages (from spacy>=2.3.5->convokit) (2.4.6)\n",
            "Requirement already satisfied: catalogue<2.1.0,>=2.0.6 in /usr/local/lib/python3.10/dist-packages (from spacy>=2.3.5->convokit) (2.0.8)\n",
            "Requirement already satisfied: typer<0.8.0,>=0.3.0 in /usr/local/lib/python3.10/dist-packages (from spacy>=2.3.5->convokit) (0.7.0)\n",
            "Requirement already satisfied: pathy>=0.10.0 in /usr/local/lib/python3.10/dist-packages (from spacy>=2.3.5->convokit) (0.10.1)\n",
            "Requirement already satisfied: smart-open<7.0.0,>=5.2.1 in /usr/local/lib/python3.10/dist-packages (from spacy>=2.3.5->convokit) (6.3.0)\n",
            "Requirement already satisfied: requests<3.0.0,>=2.13.0 in /usr/local/lib/python3.10/dist-packages (from spacy>=2.3.5->convokit) (2.27.1)\n",
            "Requirement already satisfied: pydantic!=1.8,!=1.8.1,<1.11.0,>=1.7.4 in /usr/local/lib/python3.10/dist-packages (from spacy>=2.3.5->convokit) (1.10.7)\n",
            "Requirement already satisfied: jinja2 in /usr/local/lib/python3.10/dist-packages (from spacy>=2.3.5->convokit) (3.1.2)\n",
            "Requirement already satisfied: setuptools in /usr/local/lib/python3.10/dist-packages (from spacy>=2.3.5->convokit) (67.7.2)\n",
            "Requirement already satisfied: langcodes<4.0.0,>=3.2.0 in /usr/local/lib/python3.10/dist-packages (from spacy>=2.3.5->convokit) (3.3.0)\n",
            "Requirement already satisfied: wcwidth>=0.2.5 in /usr/local/lib/python3.10/dist-packages (from ftfy<7.0,>=6.0->clean-text>=0.1.1->convokit) (0.2.6)\n",
            "Requirement already satisfied: typing-extensions>=4.2.0 in /usr/local/lib/python3.10/dist-packages (from pydantic!=1.8,!=1.8.1,<1.11.0,>=1.7.4->spacy>=2.3.5->convokit) (4.5.0)\n",
            "Requirement already satisfied: six>=1.5 in /usr/local/lib/python3.10/dist-packages (from python-dateutil>=2.7->matplotlib>=3.0.0->convokit) (1.16.0)\n",
            "Requirement already satisfied: urllib3<1.27,>=1.21.1 in /usr/local/lib/python3.10/dist-packages (from requests<3.0.0,>=2.13.0->spacy>=2.3.5->convokit) (1.26.15)\n",
            "Requirement already satisfied: certifi>=2017.4.17 in /usr/local/lib/python3.10/dist-packages (from requests<3.0.0,>=2.13.0->spacy>=2.3.5->convokit) (2022.12.7)\n",
            "Requirement already satisfied: charset-normalizer~=2.0.0 in /usr/local/lib/python3.10/dist-packages (from requests<3.0.0,>=2.13.0->spacy>=2.3.5->convokit) (2.0.12)\n",
            "Requirement already satisfied: idna<4,>=2.5 in /usr/local/lib/python3.10/dist-packages (from requests<3.0.0,>=2.13.0->spacy>=2.3.5->convokit) (3.4)\n",
            "Requirement already satisfied: blis<0.8.0,>=0.7.8 in /usr/local/lib/python3.10/dist-packages (from thinc<8.2.0,>=8.1.8->spacy>=2.3.5->convokit) (0.7.9)\n",
            "Requirement already satisfied: confection<1.0.0,>=0.0.1 in /usr/local/lib/python3.10/dist-packages (from thinc<8.2.0,>=8.1.8->spacy>=2.3.5->convokit) (0.0.4)\n",
            "Requirement already satisfied: MarkupSafe>=2.0 in /usr/local/lib/python3.10/dist-packages (from jinja2->spacy>=2.3.5->convokit) (2.1.2)\n",
            "Building wheels for collected packages: convokit, emoji\n",
            "  Building wheel for convokit (setup.py) ... \u001b[?25l\u001b[?25hdone\n",
            "  Created wheel for convokit: filename=convokit-2.5.3-py3-none-any.whl size=204104 sha256=db5b46c4d9a66ecc2a702f4feee2bac9529145f28e96e9c5445886d0856b05f9\n",
            "  Stored in directory: /root/.cache/pip/wheels/8f/da/dd/d65869bf6766b536f422e0a9753e9cf98bb9df7904b5b9c4a5\n",
            "  Building wheel for emoji (setup.py) ... \u001b[?25l\u001b[?25hdone\n",
            "  Created wheel for emoji: filename=emoji-1.7.0-py3-none-any.whl size=171033 sha256=2cc7bbe075a18fd501bab9900f334edf9d0b82e163e2f23b7e0331976c938f57\n",
            "  Stored in directory: /root/.cache/pip/wheels/31/8a/8c/315c9e5d7773f74b33d5ed33f075b49c6eaeb7cedbb86e2cf8\n",
            "Successfully built convokit emoji\n",
            "Installing collected packages: emoji, unidecode, msgpack-numpy, ftfy, dill, clean-text, convokit\n",
            "Successfully installed clean-text-0.6.0 convokit-2.5.3 dill-0.3.6 emoji-1.7.0 ftfy-6.1.1 msgpack-numpy-0.4.8 unidecode-1.3.6\n"
          ]
        }
      ]
    },
    {
      "cell_type": "code",
      "source": [
        "corpus_2019 = Corpus(filename=download(\"supreme-2019\"))\n",
        "corpus_2018 = Corpus(filename=download(\"supreme-2018\"))\n",
        "corpus_2017 = Corpus(filename=download(\"supreme-2017\"))\n",
        "corpus_2016 = Corpus(filename=download(\"supreme-2016\"))\n",
        "corpus_2015 = Corpus(filename=download(\"supreme-2015\"))\n",
        "corpus_2014 = Corpus(filename=download(\"supreme-2014\"))\n",
        "corpus_2013 = Corpus(filename=download(\"supreme-2013\"))\n",
        "corpus_2012 = Corpus(filename=download(\"supreme-2012\"))\n",
        "corpus_2011 = Corpus(filename=download(\"supreme-2011\"))\n",
        "corpus_2010 = Corpus(filename=download(\"supreme-2010\"))"
      ],
      "metadata": {
        "id": "6RYcB8Y4kdj5",
        "colab": {
          "base_uri": "https://localhost:8080/"
        },
        "outputId": "7420b556-dfaf-4f0a-ac64-c599e520de24"
      },
      "execution_count": null,
      "outputs": [
        {
          "output_type": "stream",
          "name": "stdout",
          "text": [
            "Downloading supreme-2019 to /root/.convokit/downloads/supreme-2019\n",
            "Downloading supreme-2019 from http://zissou.infosci.cornell.edu/convokit/datasets/supreme-corpus/supreme-2019.zip (7.3MB)... Done\n",
            "Downloading supreme-2018 to /root/.convokit/downloads/supreme-2018\n",
            "Downloading supreme-2018 from http://zissou.infosci.cornell.edu/convokit/datasets/supreme-corpus/supreme-2018.zip (8.3MB)... Done\n",
            "Downloading supreme-2017 to /root/.convokit/downloads/supreme-2017\n",
            "Downloading supreme-2017 from http://zissou.infosci.cornell.edu/convokit/datasets/supreme-corpus/supreme-2017.zip (7.8MB)... Done\n",
            "Downloading supreme-2016 to /root/.convokit/downloads/supreme-2016\n",
            "Downloading supreme-2016 from http://zissou.infosci.cornell.edu/convokit/datasets/supreme-corpus/supreme-2016.zip (7.2MB)... Done\n",
            "Downloading supreme-2015 to /root/.convokit/downloads/supreme-2015\n",
            "Downloading supreme-2015 from http://zissou.infosci.cornell.edu/convokit/datasets/supreme-corpus/supreme-2015.zip (8.2MB)... Done\n",
            "Downloading supreme-2014 to /root/.convokit/downloads/supreme-2014\n",
            "Downloading supreme-2014 from http://zissou.infosci.cornell.edu/convokit/datasets/supreme-corpus/supreme-2014.zip (6.5MB)... Done\n",
            "Downloading supreme-2013 to /root/.convokit/downloads/supreme-2013\n",
            "Downloading supreme-2013 from http://zissou.infosci.cornell.edu/convokit/datasets/supreme-corpus/supreme-2013.zip (8.1MB)... Done\n",
            "Downloading supreme-2012 to /root/.convokit/downloads/supreme-2012\n",
            "Downloading supreme-2012 from http://zissou.infosci.cornell.edu/convokit/datasets/supreme-corpus/supreme-2012.zip (8.9MB)... Done\n",
            "Downloading supreme-2011 to /root/.convokit/downloads/supreme-2011\n",
            "Downloading supreme-2011 from http://zissou.infosci.cornell.edu/convokit/datasets/supreme-corpus/supreme-2011.zip (8.6MB)... Done\n",
            "Downloading supreme-2010 to /root/.convokit/downloads/supreme-2010\n",
            "Downloading supreme-2010 from http://zissou.infosci.cornell.edu/convokit/datasets/supreme-corpus/supreme-2010.zip (8.8MB)... Done\n"
          ]
        }
      ]
    },
    {
      "cell_type": "markdown",
      "source": [
        "## Data Overview"
      ],
      "metadata": {
        "id": "GYQDArko6MEZ"
      }
    },
    {
      "cell_type": "code",
      "source": [
        "corpus_list = [corpus_2010, corpus_2011, corpus_2012, corpus_2013, corpus_2014, corpus_2015, corpus_2016, corpus_2017, corpus_2018, corpus_2019]\n",
        "\n",
        "for i, corpus in enumerate(corpus_list):\n",
        "  print('Year {}'.format(i + 2010))\n",
        "  print(corpus.print_summary_stats())\n",
        "  print(\"-------\")\n"
      ],
      "metadata": {
        "colab": {
          "base_uri": "https://localhost:8080/"
        },
        "id": "jBoVIALLoe2z",
        "outputId": "d36d06c1-7d40-4d68-fd96-cc7c771cc981"
      },
      "execution_count": null,
      "outputs": [
        {
          "output_type": "stream",
          "name": "stdout",
          "text": [
            "Year 2010\n",
            "Number of Speakers: 150\n",
            "Number of Utterances: 17138\n",
            "Number of Conversations: 78\n",
            "None\n",
            "-------\n",
            "Year 2011\n",
            "Number of Speakers: 127\n",
            "Number of Utterances: 16388\n",
            "Number of Conversations: 73\n",
            "None\n",
            "-------\n",
            "Year 2012\n",
            "Number of Speakers: 127\n",
            "Number of Utterances: 16606\n",
            "Number of Conversations: 74\n",
            "None\n",
            "-------\n",
            "Year 2013\n",
            "Number of Speakers: 118\n",
            "Number of Utterances: 14556\n",
            "Number of Conversations: 67\n",
            "None\n",
            "-------\n",
            "Year 2014\n",
            "Number of Speakers: 97\n",
            "Number of Utterances: 12182\n",
            "Number of Conversations: 55\n",
            "None\n",
            "-------\n",
            "Year 2015\n",
            "Number of Speakers: 127\n",
            "Number of Utterances: 15986\n",
            "Number of Conversations: 69\n",
            "None\n",
            "-------\n",
            "Year 2016\n",
            "Number of Speakers: 110\n",
            "Number of Utterances: 13060\n",
            "Number of Conversations: 62\n",
            "None\n",
            "-------\n",
            "Year 2017\n",
            "Number of Speakers: 124\n",
            "Number of Utterances: 15703\n",
            "Number of Conversations: 65\n",
            "None\n",
            "-------\n",
            "Year 2018\n",
            "Number of Speakers: 133\n",
            "Number of Utterances: 16600\n",
            "Number of Conversations: 71\n",
            "None\n",
            "-------\n",
            "Year 2019\n",
            "Number of Speakers: 113\n",
            "Number of Utterances: 13707\n",
            "Number of Conversations: 58\n",
            "None\n",
            "-------\n"
          ]
        }
      ]
    },
    {
      "cell_type": "code",
      "source": [
        "!pip install imbalanced-learn"
      ],
      "metadata": {
        "id": "qjZ3WfebXtZ6"
      },
      "execution_count": null,
      "outputs": []
    },
    {
      "cell_type": "code",
      "source": [
        "# Imports\n",
        "from imblearn.over_sampling import RandomOverSampler, SMOTE\n",
        "# from convokit import model, util\n",
        "import pandas as pd\n",
        "import nltk\n",
        "from nltk.corpus import stopwords\n",
        "from nltk.stem.snowball import SnowballStemmer\n",
        "from sklearn.feature_extraction.text import CountVectorizer\n",
        "import numpy as np\n",
        "from sklearn.linear_model import LogisticRegression\n",
        "from sklearn.metrics import confusion_matrix, classification_report, precision_score, recall_score, ConfusionMatrixDisplay\n",
        "from sklearn import preprocessing\n",
        "from sklearn.model_selection import train_test_split, GridSearchCV, RandomizedSearchCV\n",
        "from sklearn.svm import SVC\n",
        "from torch.utils.data import DataLoader, Dataset\n",
        "import torch\n",
        "import matplotlib.pyplot as plt\n",
        "from torch import nn\n",
        "import torch.nn.functional as F\n",
        "import xgboost as xgb\n",
        "import lightgbm as lgb"
      ],
      "metadata": {
        "id": "ONCtHWsXXypT"
      },
      "execution_count": null,
      "outputs": []
    },
    {
      "cell_type": "markdown",
      "source": [
        "---"
      ],
      "metadata": {
        "id": "yGRIsBkO9cL_"
      }
    },
    {
      "cell_type": "markdown",
      "source": [
        "## Preprocessing"
      ],
      "metadata": {
        "id": "WvcVobo46H7G"
      }
    },
    {
      "cell_type": "code",
      "source": [
        "# concatenate utterances over 5 years into a single df\n",
        "frames = []\n",
        "for corpus in corpus_list:\n",
        "  frames.append(model.conversation.Conversation.get_utterances_dataframe(corpus))\n",
        "\n",
        "utts = pd.concat(frames)"
      ],
      "metadata": {
        "id": "XQGT1bWw2AzX"
      },
      "execution_count": null,
      "outputs": []
    },
    {
      "cell_type": "code",
      "source": [
        "# append conv win rate \n",
        "frames = []\n",
        "for corpus in corpus_list:\n",
        "  frames.append(model.corpus.Corpus.get_conversations_dataframe(corpus))\n",
        "\n",
        "conv_df = pd.concat(frames)\n",
        "conv_df.reset_index(inplace = True)"
      ],
      "metadata": {
        "id": "GH0IMUrj0KfH"
      },
      "execution_count": null,
      "outputs": []
    },
    {
      "cell_type": "code",
      "source": [
        "# code for one of the bar graphs in poster \n",
        "merged_df = utts.merge(conv_df, left_on='conversation_id', right_on='id')\n",
        "merged_df['year'] = merged_df['meta.case_id_x'].str[:4]\n",
        "test = merged_df[['year','meta.win_side', 'conversation_id']]\n",
        "test = test.drop_duplicates()\n",
        "df1 = pd.get_dummies(test, columns=['meta.win_side'])\n",
        "df2 = df1.groupby(['year']).agg('sum')\n",
        "df2.reset_index(inplace=True)\n",
        "\n",
        "p = df2['meta.win_side_1']\n",
        "r = df2['meta.win_side_0']\n",
        "labels = list(df2['year'].unique())\n",
        "x = df2['year'].astype(int)\n",
        "fig, ax = plt.subplots()\n",
        "width=0.30\n",
        "rects1 = ax.bar(x-width/2, r, width, label='Petitioner Loss')\n",
        "rects2 = ax.bar(x+width/2, p, width, label='Petitioner Win')\n",
        "ax.set_xlabel('Year')\n",
        "ax.set_xticks(x, labels)\n",
        "ax.set_title('Distribution of Case Outcomes by Year')\n",
        "ax.set_ylim(0, 60)\n",
        "ax.legend()\n",
        "ax.bar_label(rects1, padding=2, fmt='%.0f')\n",
        "ax.bar_label(rects2, padding=2, fmt='%.0f')\n",
        "fig.tight_layout()\n",
        "plt.savefig(PATH + 'target_by_year.png', bbox_inches='tight')\n",
        "plt.show()"
      ],
      "metadata": {
        "id": "QG_5EcbteVwf"
      },
      "execution_count": null,
      "outputs": []
    },
    {
      "cell_type": "code",
      "source": [
        "merged_df = utts.merge(conv_df, left_on='conversation_id', right_on='id')\n",
        "final_df = merged_df[['conversation_id', 'text', 'meta.speaker_type', 'meta.side', 'meta.win_side']]"
      ],
      "metadata": {
        "id": "ZSSn81Cm26Bu"
      },
      "execution_count": null,
      "outputs": []
    },
    {
      "cell_type": "code",
      "source": [
        "final_df = final_df[(final_df['meta.win_side'] == 1) | (final_df['meta.win_side'] == 0)]\n",
        "final_df.shape"
      ],
      "metadata": {
        "colab": {
          "base_uri": "https://localhost:8080/"
        },
        "id": "jJpbT_yU3eBg",
        "outputId": "7e737379-5d1c-42ac-adb2-c5182c94ea7b"
      },
      "execution_count": null,
      "outputs": [
        {
          "output_type": "execute_result",
          "data": {
            "text/plain": [
              "(150715, 5)"
            ]
          },
          "metadata": {},
          "execution_count": 11
        }
      ]
    },
    {
      "cell_type": "code",
      "source": [
        "# final def is at the utterance level\n",
        "final_df['meta.side'] = final_df['meta.side'].fillna(-1) \n",
        "\n",
        "# filter out only None/0/1 for meta.side\n",
        "final_df = final_df[(final_df[\"meta.side\"] != 2) & (final_df[\"meta.side\"] != 3)]"
      ],
      "metadata": {
        "id": "adlOppG9KeYL"
      },
      "execution_count": null,
      "outputs": []
    },
    {
      "cell_type": "code",
      "source": [
        "final_df['meta.side'].unique()"
      ],
      "metadata": {
        "colab": {
          "base_uri": "https://localhost:8080/"
        },
        "id": "-gVUszy4Hokq",
        "outputId": "4876f561-c9c3-4f01-c410-7c1cfc236ec6"
      },
      "execution_count": null,
      "outputs": [
        {
          "output_type": "execute_result",
          "data": {
            "text/plain": [
              "array([-1,  1,  0])"
            ]
          },
          "metadata": {},
          "execution_count": 16
        }
      ]
    },
    {
      "cell_type": "code",
      "source": [
        "# concatenate texts for each conversation_id (under the same speaker_type)\n",
        "df = final_df.copy()\n",
        "df['text'] = df[['conversation_id', 'text', 'meta.speaker_type', 'meta.side','meta.win_side']].groupby(['conversation_id','meta.speaker_type', 'meta.side'])['text'].transform(lambda x: ','.join(x))\n",
        "df = df[['conversation_id', 'text', 'meta.speaker_type', 'meta.side', 'meta.win_side']].drop_duplicates()\n",
        "df = df.dropna()\n",
        "df.head(5) # 0 is for respondent, 1 for petitioner, -1 for judge"
      ],
      "metadata": {
        "colab": {
          "base_uri": "https://localhost:8080/",
          "height": 206
        },
        "id": "F5sKwOvJ6dPi",
        "outputId": "5264d730-f5a4-4435-8ef9-169cd9933412"
      },
      "execution_count": null,
      "outputs": [
        {
          "output_type": "execute_result",
          "data": {
            "text/plain": [
              "    conversation_id                                               text  \\\n",
              "0             22372  We will hear argument next in Case 09-479, Abb...   \n",
              "1             22372  Mr. Chief Justice, and may it please the Court...   \n",
              "91            22372  Mr. Chief Justice, and may it please the Court...   \n",
              "197           21694  We'll hear argument today in Case 10-174, Amer...   \n",
              "198           21694  Mr. Chief Justice and may it please the Court:...   \n",
              "\n",
              "    meta.speaker_type  meta.side meta.win_side  \n",
              "0                   J         -1             0  \n",
              "1                   A          1             0  \n",
              "91                  A          0             0  \n",
              "197                 J         -1             1  \n",
              "198                 A          1             1  "
            ],
            "text/html": [
              "\n",
              "  <div id=\"df-3e2fef59-837d-48d3-ad98-58e9c690851c\">\n",
              "    <div class=\"colab-df-container\">\n",
              "      <div>\n",
              "<style scoped>\n",
              "    .dataframe tbody tr th:only-of-type {\n",
              "        vertical-align: middle;\n",
              "    }\n",
              "\n",
              "    .dataframe tbody tr th {\n",
              "        vertical-align: top;\n",
              "    }\n",
              "\n",
              "    .dataframe thead th {\n",
              "        text-align: right;\n",
              "    }\n",
              "</style>\n",
              "<table border=\"1\" class=\"dataframe\">\n",
              "  <thead>\n",
              "    <tr style=\"text-align: right;\">\n",
              "      <th></th>\n",
              "      <th>conversation_id</th>\n",
              "      <th>text</th>\n",
              "      <th>meta.speaker_type</th>\n",
              "      <th>meta.side</th>\n",
              "      <th>meta.win_side</th>\n",
              "    </tr>\n",
              "  </thead>\n",
              "  <tbody>\n",
              "    <tr>\n",
              "      <th>0</th>\n",
              "      <td>22372</td>\n",
              "      <td>We will hear argument next in Case 09-479, Abb...</td>\n",
              "      <td>J</td>\n",
              "      <td>-1</td>\n",
              "      <td>0</td>\n",
              "    </tr>\n",
              "    <tr>\n",
              "      <th>1</th>\n",
              "      <td>22372</td>\n",
              "      <td>Mr. Chief Justice, and may it please the Court...</td>\n",
              "      <td>A</td>\n",
              "      <td>1</td>\n",
              "      <td>0</td>\n",
              "    </tr>\n",
              "    <tr>\n",
              "      <th>91</th>\n",
              "      <td>22372</td>\n",
              "      <td>Mr. Chief Justice, and may it please the Court...</td>\n",
              "      <td>A</td>\n",
              "      <td>0</td>\n",
              "      <td>0</td>\n",
              "    </tr>\n",
              "    <tr>\n",
              "      <th>197</th>\n",
              "      <td>21694</td>\n",
              "      <td>We'll hear argument today in Case 10-174, Amer...</td>\n",
              "      <td>J</td>\n",
              "      <td>-1</td>\n",
              "      <td>1</td>\n",
              "    </tr>\n",
              "    <tr>\n",
              "      <th>198</th>\n",
              "      <td>21694</td>\n",
              "      <td>Mr. Chief Justice and may it please the Court:...</td>\n",
              "      <td>A</td>\n",
              "      <td>1</td>\n",
              "      <td>1</td>\n",
              "    </tr>\n",
              "  </tbody>\n",
              "</table>\n",
              "</div>\n",
              "      <button class=\"colab-df-convert\" onclick=\"convertToInteractive('df-3e2fef59-837d-48d3-ad98-58e9c690851c')\"\n",
              "              title=\"Convert this dataframe to an interactive table.\"\n",
              "              style=\"display:none;\">\n",
              "        \n",
              "  <svg xmlns=\"http://www.w3.org/2000/svg\" height=\"24px\"viewBox=\"0 0 24 24\"\n",
              "       width=\"24px\">\n",
              "    <path d=\"M0 0h24v24H0V0z\" fill=\"none\"/>\n",
              "    <path d=\"M18.56 5.44l.94 2.06.94-2.06 2.06-.94-2.06-.94-.94-2.06-.94 2.06-2.06.94zm-11 1L8.5 8.5l.94-2.06 2.06-.94-2.06-.94L8.5 2.5l-.94 2.06-2.06.94zm10 10l.94 2.06.94-2.06 2.06-.94-2.06-.94-.94-2.06-.94 2.06-2.06.94z\"/><path d=\"M17.41 7.96l-1.37-1.37c-.4-.4-.92-.59-1.43-.59-.52 0-1.04.2-1.43.59L10.3 9.45l-7.72 7.72c-.78.78-.78 2.05 0 2.83L4 21.41c.39.39.9.59 1.41.59.51 0 1.02-.2 1.41-.59l7.78-7.78 2.81-2.81c.8-.78.8-2.07 0-2.86zM5.41 20L4 18.59l7.72-7.72 1.47 1.35L5.41 20z\"/>\n",
              "  </svg>\n",
              "      </button>\n",
              "      \n",
              "  <style>\n",
              "    .colab-df-container {\n",
              "      display:flex;\n",
              "      flex-wrap:wrap;\n",
              "      gap: 12px;\n",
              "    }\n",
              "\n",
              "    .colab-df-convert {\n",
              "      background-color: #E8F0FE;\n",
              "      border: none;\n",
              "      border-radius: 50%;\n",
              "      cursor: pointer;\n",
              "      display: none;\n",
              "      fill: #1967D2;\n",
              "      height: 32px;\n",
              "      padding: 0 0 0 0;\n",
              "      width: 32px;\n",
              "    }\n",
              "\n",
              "    .colab-df-convert:hover {\n",
              "      background-color: #E2EBFA;\n",
              "      box-shadow: 0px 1px 2px rgba(60, 64, 67, 0.3), 0px 1px 3px 1px rgba(60, 64, 67, 0.15);\n",
              "      fill: #174EA6;\n",
              "    }\n",
              "\n",
              "    [theme=dark] .colab-df-convert {\n",
              "      background-color: #3B4455;\n",
              "      fill: #D2E3FC;\n",
              "    }\n",
              "\n",
              "    [theme=dark] .colab-df-convert:hover {\n",
              "      background-color: #434B5C;\n",
              "      box-shadow: 0px 1px 3px 1px rgba(0, 0, 0, 0.15);\n",
              "      filter: drop-shadow(0px 1px 2px rgba(0, 0, 0, 0.3));\n",
              "      fill: #FFFFFF;\n",
              "    }\n",
              "  </style>\n",
              "\n",
              "      <script>\n",
              "        const buttonEl =\n",
              "          document.querySelector('#df-3e2fef59-837d-48d3-ad98-58e9c690851c button.colab-df-convert');\n",
              "        buttonEl.style.display =\n",
              "          google.colab.kernel.accessAllowed ? 'block' : 'none';\n",
              "\n",
              "        async function convertToInteractive(key) {\n",
              "          const element = document.querySelector('#df-3e2fef59-837d-48d3-ad98-58e9c690851c');\n",
              "          const dataTable =\n",
              "            await google.colab.kernel.invokeFunction('convertToInteractive',\n",
              "                                                     [key], {});\n",
              "          if (!dataTable) return;\n",
              "\n",
              "          const docLinkHtml = 'Like what you see? Visit the ' +\n",
              "            '<a target=\"_blank\" href=https://colab.research.google.com/notebooks/data_table.ipynb>data table notebook</a>'\n",
              "            + ' to learn more about interactive tables.';\n",
              "          element.innerHTML = '';\n",
              "          dataTable['output_type'] = 'display_data';\n",
              "          await google.colab.output.renderOutput(dataTable, element);\n",
              "          const docLink = document.createElement('div');\n",
              "          docLink.innerHTML = docLinkHtml;\n",
              "          element.appendChild(docLink);\n",
              "        }\n",
              "      </script>\n",
              "    </div>\n",
              "  </div>\n",
              "  "
            ]
          },
          "metadata": {},
          "execution_count": 19
        }
      ]
    },
    {
      "cell_type": "markdown",
      "source": [
        "### Including text cleaning, i.e. stop words, keep only stems!"
      ],
      "metadata": {
        "id": "Cqe0hP2UB_Fv"
      }
    },
    {
      "cell_type": "code",
      "source": [
        "# get rid of stop words\n",
        "nltk.download('stopwords')\n",
        "stop = stopwords.words('english')\n",
        "\n",
        "df = df[df['text'].notnull()]\n",
        "df['cleaned_text'] = df['text'].apply(lambda x: ' '.join([word for word in x.split(\" \") if word not in (stop)]))"
      ],
      "metadata": {
        "colab": {
          "base_uri": "https://localhost:8080/"
        },
        "id": "AXfPjYwalGlt",
        "outputId": "6412ef2e-d334-40c1-9df6-7b2ef049dc26"
      },
      "execution_count": null,
      "outputs": [
        {
          "output_type": "stream",
          "name": "stderr",
          "text": [
            "[nltk_data] Downloading package stopwords to /root/nltk_data...\n",
            "[nltk_data]   Unzipping corpora/stopwords.zip.\n"
          ]
        }
      ]
    },
    {
      "cell_type": "code",
      "source": [
        "df[\"unstemmed\"] = df[\"cleaned_text\"].str.split()"
      ],
      "metadata": {
        "id": "XxytC4IeB5dM"
      },
      "execution_count": null,
      "outputs": []
    },
    {
      "cell_type": "code",
      "source": [
        "# only keep stem\n",
        "stemmer = SnowballStemmer(\"english\")\n",
        "df[\"stemmed\"] = df[\"unstemmed\"].apply(lambda x : [stemmer.stem(y) for y in x])"
      ],
      "metadata": {
        "id": "Fv6ByFE4B_1y"
      },
      "execution_count": null,
      "outputs": []
    },
    {
      "cell_type": "code",
      "source": [
        "df.head(3)"
      ],
      "metadata": {
        "colab": {
          "base_uri": "https://localhost:8080/",
          "height": 256
        },
        "id": "srO3uG1_BbwY",
        "outputId": "82545846-0cac-49e1-be57-0235df4c462e"
      },
      "execution_count": null,
      "outputs": [
        {
          "output_type": "execute_result",
          "data": {
            "text/plain": [
              "   conversation_id                                               text  \\\n",
              "0            22372  We will hear argument next in Case 09-479, Abb...   \n",
              "1            22372  Mr. Chief Justice, and may it please the Court...   \n",
              "91           22372  Mr. Chief Justice, and may it please the Court...   \n",
              "\n",
              "   meta.speaker_type  meta.side meta.win_side  \\\n",
              "0                  J         -1             0   \n",
              "1                  A          1             0   \n",
              "91                 A          0             0   \n",
              "\n",
              "                                         cleaned_text  \\\n",
              "0   We hear argument next Case 09-479, Abbott v. U...   \n",
              "1   Mr. Chief Justice, may please Court:\\nThe stat...   \n",
              "91  Mr. Chief Justice, may please Court:\\nA distri...   \n",
              "\n",
              "                                            unstemmed  \\\n",
              "0   [We, hear, argument, next, Case, 09-479,, Abbo...   \n",
              "1   [Mr., Chief, Justice,, may, please, Court:, Th...   \n",
              "91  [Mr., Chief, Justice,, may, please, Court:, A,...   \n",
              "\n",
              "                                              stemmed  \n",
              "0   [we, hear, argument, next, case, 09-479,, abbo...  \n",
              "1   [mr., chief, justice,, may, pleas, court:, the...  \n",
              "91  [mr., chief, justice,, may, pleas, court:, a, ...  "
            ],
            "text/html": [
              "\n",
              "  <div id=\"df-d073773e-d73a-4e12-a433-4accf26bb02a\">\n",
              "    <div class=\"colab-df-container\">\n",
              "      <div>\n",
              "<style scoped>\n",
              "    .dataframe tbody tr th:only-of-type {\n",
              "        vertical-align: middle;\n",
              "    }\n",
              "\n",
              "    .dataframe tbody tr th {\n",
              "        vertical-align: top;\n",
              "    }\n",
              "\n",
              "    .dataframe thead th {\n",
              "        text-align: right;\n",
              "    }\n",
              "</style>\n",
              "<table border=\"1\" class=\"dataframe\">\n",
              "  <thead>\n",
              "    <tr style=\"text-align: right;\">\n",
              "      <th></th>\n",
              "      <th>conversation_id</th>\n",
              "      <th>text</th>\n",
              "      <th>meta.speaker_type</th>\n",
              "      <th>meta.side</th>\n",
              "      <th>meta.win_side</th>\n",
              "      <th>cleaned_text</th>\n",
              "      <th>unstemmed</th>\n",
              "      <th>stemmed</th>\n",
              "    </tr>\n",
              "  </thead>\n",
              "  <tbody>\n",
              "    <tr>\n",
              "      <th>0</th>\n",
              "      <td>22372</td>\n",
              "      <td>We will hear argument next in Case 09-479, Abb...</td>\n",
              "      <td>J</td>\n",
              "      <td>-1</td>\n",
              "      <td>0</td>\n",
              "      <td>We hear argument next Case 09-479, Abbott v. U...</td>\n",
              "      <td>[We, hear, argument, next, Case, 09-479,, Abbo...</td>\n",
              "      <td>[we, hear, argument, next, case, 09-479,, abbo...</td>\n",
              "    </tr>\n",
              "    <tr>\n",
              "      <th>1</th>\n",
              "      <td>22372</td>\n",
              "      <td>Mr. Chief Justice, and may it please the Court...</td>\n",
              "      <td>A</td>\n",
              "      <td>1</td>\n",
              "      <td>0</td>\n",
              "      <td>Mr. Chief Justice, may please Court:\\nThe stat...</td>\n",
              "      <td>[Mr., Chief, Justice,, may, please, Court:, Th...</td>\n",
              "      <td>[mr., chief, justice,, may, pleas, court:, the...</td>\n",
              "    </tr>\n",
              "    <tr>\n",
              "      <th>91</th>\n",
              "      <td>22372</td>\n",
              "      <td>Mr. Chief Justice, and may it please the Court...</td>\n",
              "      <td>A</td>\n",
              "      <td>0</td>\n",
              "      <td>0</td>\n",
              "      <td>Mr. Chief Justice, may please Court:\\nA distri...</td>\n",
              "      <td>[Mr., Chief, Justice,, may, please, Court:, A,...</td>\n",
              "      <td>[mr., chief, justice,, may, pleas, court:, a, ...</td>\n",
              "    </tr>\n",
              "  </tbody>\n",
              "</table>\n",
              "</div>\n",
              "      <button class=\"colab-df-convert\" onclick=\"convertToInteractive('df-d073773e-d73a-4e12-a433-4accf26bb02a')\"\n",
              "              title=\"Convert this dataframe to an interactive table.\"\n",
              "              style=\"display:none;\">\n",
              "        \n",
              "  <svg xmlns=\"http://www.w3.org/2000/svg\" height=\"24px\"viewBox=\"0 0 24 24\"\n",
              "       width=\"24px\">\n",
              "    <path d=\"M0 0h24v24H0V0z\" fill=\"none\"/>\n",
              "    <path d=\"M18.56 5.44l.94 2.06.94-2.06 2.06-.94-2.06-.94-.94-2.06-.94 2.06-2.06.94zm-11 1L8.5 8.5l.94-2.06 2.06-.94-2.06-.94L8.5 2.5l-.94 2.06-2.06.94zm10 10l.94 2.06.94-2.06 2.06-.94-2.06-.94-.94-2.06-.94 2.06-2.06.94z\"/><path d=\"M17.41 7.96l-1.37-1.37c-.4-.4-.92-.59-1.43-.59-.52 0-1.04.2-1.43.59L10.3 9.45l-7.72 7.72c-.78.78-.78 2.05 0 2.83L4 21.41c.39.39.9.59 1.41.59.51 0 1.02-.2 1.41-.59l7.78-7.78 2.81-2.81c.8-.78.8-2.07 0-2.86zM5.41 20L4 18.59l7.72-7.72 1.47 1.35L5.41 20z\"/>\n",
              "  </svg>\n",
              "      </button>\n",
              "      \n",
              "  <style>\n",
              "    .colab-df-container {\n",
              "      display:flex;\n",
              "      flex-wrap:wrap;\n",
              "      gap: 12px;\n",
              "    }\n",
              "\n",
              "    .colab-df-convert {\n",
              "      background-color: #E8F0FE;\n",
              "      border: none;\n",
              "      border-radius: 50%;\n",
              "      cursor: pointer;\n",
              "      display: none;\n",
              "      fill: #1967D2;\n",
              "      height: 32px;\n",
              "      padding: 0 0 0 0;\n",
              "      width: 32px;\n",
              "    }\n",
              "\n",
              "    .colab-df-convert:hover {\n",
              "      background-color: #E2EBFA;\n",
              "      box-shadow: 0px 1px 2px rgba(60, 64, 67, 0.3), 0px 1px 3px 1px rgba(60, 64, 67, 0.15);\n",
              "      fill: #174EA6;\n",
              "    }\n",
              "\n",
              "    [theme=dark] .colab-df-convert {\n",
              "      background-color: #3B4455;\n",
              "      fill: #D2E3FC;\n",
              "    }\n",
              "\n",
              "    [theme=dark] .colab-df-convert:hover {\n",
              "      background-color: #434B5C;\n",
              "      box-shadow: 0px 1px 3px 1px rgba(0, 0, 0, 0.15);\n",
              "      filter: drop-shadow(0px 1px 2px rgba(0, 0, 0, 0.3));\n",
              "      fill: #FFFFFF;\n",
              "    }\n",
              "  </style>\n",
              "\n",
              "      <script>\n",
              "        const buttonEl =\n",
              "          document.querySelector('#df-d073773e-d73a-4e12-a433-4accf26bb02a button.colab-df-convert');\n",
              "        buttonEl.style.display =\n",
              "          google.colab.kernel.accessAllowed ? 'block' : 'none';\n",
              "\n",
              "        async function convertToInteractive(key) {\n",
              "          const element = document.querySelector('#df-d073773e-d73a-4e12-a433-4accf26bb02a');\n",
              "          const dataTable =\n",
              "            await google.colab.kernel.invokeFunction('convertToInteractive',\n",
              "                                                     [key], {});\n",
              "          if (!dataTable) return;\n",
              "\n",
              "          const docLinkHtml = 'Like what you see? Visit the ' +\n",
              "            '<a target=\"_blank\" href=https://colab.research.google.com/notebooks/data_table.ipynb>data table notebook</a>'\n",
              "            + ' to learn more about interactive tables.';\n",
              "          element.innerHTML = '';\n",
              "          dataTable['output_type'] = 'display_data';\n",
              "          await google.colab.output.renderOutput(dataTable, element);\n",
              "          const docLink = document.createElement('div');\n",
              "          docLink.innerHTML = docLinkHtml;\n",
              "          element.appendChild(docLink);\n",
              "        }\n",
              "      </script>\n",
              "    </div>\n",
              "  </div>\n",
              "  "
            ]
          },
          "metadata": {},
          "execution_count": 25
        }
      ]
    },
    {
      "cell_type": "code",
      "source": [
        "df[\"finally_cleaned\"] = df[\"stemmed\"].apply(lambda x : \" \".join(x))"
      ],
      "metadata": {
        "id": "CJHMy4oepXKU"
      },
      "execution_count": null,
      "outputs": []
    },
    {
      "cell_type": "markdown",
      "source": [
        "#### Write to csv so we can read that in for future"
      ],
      "metadata": {
        "id": "W97JAF9lMNsc"
      }
    },
    {
      "cell_type": "code",
      "source": [
        "df.to_csv('sc_conv_level.csv')"
      ],
      "metadata": {
        "id": "nTcMEnNZc8at"
      },
      "execution_count": null,
      "outputs": []
    },
    {
      "cell_type": "markdown",
      "source": [
        "------------"
      ],
      "metadata": {
        "id": "yrYAqLQL6AeQ"
      }
    },
    {
      "cell_type": "markdown",
      "source": [
        "## Start here when we have already preprocessed data!"
      ],
      "metadata": {
        "id": "M_hO5KVSMSth"
      }
    },
    {
      "cell_type": "code",
      "source": [
        "from google.colab import drive \n",
        "drive.mount('/content/gdrive')\n",
        "\n",
        "# Carolyn's path\n",
        "PATH = \"gdrive/MyDrive/\"\n",
        "\n",
        "# Eujene's path\n",
        "# PATH = \"gdrive/MyDrive/Colab Notebooks/datasets/\" #to be changed later\n",
        "\n",
        "# Maggie's path\n",
        "# PATH = \"gdrive/MyDrive/Colab Notebooks/datasets/\""
      ],
      "metadata": {
        "colab": {
          "base_uri": "https://localhost:8080/"
        },
        "id": "igdgiP3rlhNB",
        "outputId": "f6da1263-3a99-4dd3-d8ce-82d3b4e96239"
      },
      "execution_count": null,
      "outputs": [
        {
          "output_type": "stream",
          "name": "stdout",
          "text": [
            "Mounted at /content/gdrive\n"
          ]
        }
      ]
    },
    {
      "cell_type": "code",
      "source": [
        "# import csv\n",
        "df = pd.read_csv(PATH + 'sc_conv_level.csv')\n",
        "df.drop(columns = [\"Unnamed: 0\"], inplace = True)"
      ],
      "metadata": {
        "id": "iNYe_50gljns"
      },
      "execution_count": null,
      "outputs": []
    },
    {
      "cell_type": "code",
      "source": [
        "# groupby conv id and concat finally cleaned text\n",
        "df_nn = df.groupby(['conversation_id'])['finally_cleaned'].apply(','.join).reset_index()"
      ],
      "metadata": {
        "id": "onAVtmE3A5c2"
      },
      "execution_count": null,
      "outputs": []
    },
    {
      "cell_type": "code",
      "source": [
        "# get win side\n",
        "df_nn1 = df_nn.merge(df[['conversation_id', 'meta.win_side']], on='conversation_id')\n",
        "df_nn1.drop_duplicates(inplace=True)\n",
        "df_nn1.reset_index(inplace=True)"
      ],
      "metadata": {
        "id": "C1ASNREqmLpq"
      },
      "execution_count": null,
      "outputs": []
    },
    {
      "cell_type": "code",
      "source": [
        "# Check class imbalance\n",
        "df_nn1['meta.win_side'].value_counts()"
      ],
      "metadata": {
        "colab": {
          "base_uri": "https://localhost:8080/"
        },
        "id": "L2KeGw4eNfpP",
        "outputId": "af2abd1e-827c-4f22-c86d-3690470ed07f"
      },
      "execution_count": null,
      "outputs": [
        {
          "output_type": "execute_result",
          "data": {
            "text/plain": [
              "1    425\n",
              "0    242\n",
              "Name: meta.win_side, dtype: int64"
            ]
          },
          "metadata": {},
          "execution_count": 8
        }
      ]
    },
    {
      "cell_type": "markdown",
      "source": [
        "### Oversample minority class, train test split, create dataloaders for neural network model\n"
      ],
      "metadata": {
        "id": "5Yfd-QZjXzRa"
      }
    },
    {
      "cell_type": "code",
      "source": [
        "lst = df_nn1['finally_cleaned'].tolist()\n",
        "vectorizer = CountVectorizer() # Convert a collection of text documents to a matrix of token counts.\n",
        "X = vectorizer.fit_transform(lst)\n",
        "feature_names = vectorizer.get_feature_names_out() # number of unigrams: 12869\n",
        "X.toarray().shape # check"
      ],
      "metadata": {
        "colab": {
          "base_uri": "https://localhost:8080/"
        },
        "id": "PCbK79_yoCEf",
        "outputId": "f6b9fde2-875a-4e40-9a84-6dec05ddd5f2"
      },
      "execution_count": null,
      "outputs": [
        {
          "output_type": "execute_result",
          "data": {
            "text/plain": [
              "(667, 32861)"
            ]
          },
          "metadata": {},
          "execution_count": 9
        }
      ]
    },
    {
      "cell_type": "code",
      "source": [
        "input_matrix = pd.DataFrame.sparse.from_spmatrix(X)"
      ],
      "metadata": {
        "id": "0CoNZ8lnnYAW"
      },
      "execution_count": null,
      "outputs": []
    },
    {
      "cell_type": "code",
      "source": [
        "input_matrix.shape"
      ],
      "metadata": {
        "colab": {
          "base_uri": "https://localhost:8080/"
        },
        "id": "AWYuvU6Sz53C",
        "outputId": "53b8a1a7-1f3b-4082-9b01-406e6099e55e"
      },
      "execution_count": null,
      "outputs": [
        {
          "output_type": "execute_result",
          "data": {
            "text/plain": [
              "(667, 32861)"
            ]
          },
          "metadata": {},
          "execution_count": 11
        }
      ]
    },
    {
      "cell_type": "code",
      "source": [
        "# create Data Loader\n",
        "BATCH_SIZE = 8 # batch size for training\n",
        "\n",
        "# train test split\n",
        "X_train, X_test, y_train, y_test = train_test_split(input_matrix, df_nn1['meta.win_side'], test_size = 0.2, random_state = 42)\n",
        "\n",
        "# create validation\n",
        "X_val, X_test, y_val, y_test = train_test_split(X_test, y_test, test_size=0.5, random_state=1) # 0.25 x 0.8 = 0.2\n",
        "\n",
        "# convert into PyTorch tensors\n",
        "X_train = torch.tensor(X_train.values, dtype=torch.float32)\n",
        "y_train = torch.tensor(y_train.values, dtype=torch.float32).reshape(-1, 1)\n",
        "\n",
        "X_test = torch.tensor(X_test.values, dtype=torch.float32)\n",
        "y_test = y_test.to_numpy()\n",
        "y_test = torch.tensor(y_test.astype(np.float), dtype=torch.float32).reshape(-1, 1)\n",
        "\n",
        "X_val = torch.tensor(X_val.values, dtype=torch.float32)\n",
        "y_val = y_val.to_numpy()\n",
        "y_val = torch.tensor(y_val.astype(np.float), dtype=torch.float32).reshape(-1, 1)\n",
        " \n",
        "# oversample minority class\n",
        "ros = RandomOverSampler(random_state=42)\n",
        "X_train_ros, y_train_ros= ros.fit_resample(X_train, y_train)\n",
        "X_train_ros = torch.tensor(X_train_ros, dtype=torch.float32)\n",
        "y_train_ros = torch.tensor(y_train_ros, dtype=torch.float32).reshape(-1, 1)\n",
        "\n",
        "# create DataLoader, then take one batch\n",
        "train_dataloader = DataLoader(list(zip(X_train_ros,y_train_ros)), shuffle=True, batch_size=8)\n",
        "val_dataloader = DataLoader(list(zip(X_val,y_val)), shuffle=True, batch_size=8)\n",
        "test_dataloader = DataLoader(list(zip(X_test,y_test)), shuffle=True, batch_size=8)\n"
      ],
      "metadata": {
        "colab": {
          "base_uri": "https://localhost:8080/"
        },
        "id": "KeArpqQZnLBi",
        "outputId": "dfc4a650-01e8-46a5-cc4f-d7be22738f11"
      },
      "execution_count": null,
      "outputs": [
        {
          "output_type": "stream",
          "name": "stderr",
          "text": [
            "<ipython-input-12-407380cdc23a>:16: DeprecationWarning: `np.float` is a deprecated alias for the builtin `float`. To silence this warning, use `float` by itself. Doing this will not modify any behavior and is safe. If you specifically wanted the numpy scalar type, use `np.float64` here.\n",
            "Deprecated in NumPy 1.20; for more details and guidance: https://numpy.org/devdocs/release/1.20.0-notes.html#deprecations\n",
            "  y_test = torch.tensor(y_test.astype(np.float), dtype=torch.float32).reshape(-1, 1)\n",
            "<ipython-input-12-407380cdc23a>:20: DeprecationWarning: `np.float` is a deprecated alias for the builtin `float`. To silence this warning, use `float` by itself. Doing this will not modify any behavior and is safe. If you specifically wanted the numpy scalar type, use `np.float64` here.\n",
            "Deprecated in NumPy 1.20; for more details and guidance: https://numpy.org/devdocs/release/1.20.0-notes.html#deprecations\n",
            "  y_val = torch.tensor(y_val.astype(np.float), dtype=torch.float32).reshape(-1, 1)\n"
          ]
        }
      ]
    },
    {
      "cell_type": "code",
      "source": [
        "# check that our classes are balanced\n",
        "y_train_ros.mean()"
      ],
      "metadata": {
        "colab": {
          "base_uri": "https://localhost:8080/"
        },
        "id": "hZXBJMzhSOHy",
        "outputId": "256473dd-d99a-4b45-e7d3-d921d8766d64"
      },
      "execution_count": null,
      "outputs": [
        {
          "output_type": "execute_result",
          "data": {
            "text/plain": [
              "tensor(0.5000)"
            ]
          },
          "metadata": {},
          "execution_count": 13
        }
      ]
    },
    {
      "cell_type": "markdown",
      "source": [
        "# Modeling"
      ],
      "metadata": {
        "id": "dEj2VwRyTYng"
      }
    },
    {
      "cell_type": "markdown",
      "source": [
        "## Logistic Regression"
      ],
      "metadata": {
        "id": "yRQE0AdF6TD1"
      }
    },
    {
      "cell_type": "code",
      "source": [
        "# concatenate validation and test sets from above to get a single 20% test set\n",
        "X_test_lr = torch.cat((X_val,X_test))\n",
        "y_test_lr = torch.cat((y_val,y_test))"
      ],
      "metadata": {
        "id": "DygZj8He6XcH"
      },
      "execution_count": null,
      "outputs": []
    },
    {
      "cell_type": "code",
      "source": [
        "# Grid Seach CV (cross validation)\n",
        "# for regularization (lambda) C\n",
        "\n",
        "param_grid = {'C': [0.0001, .001, .01, .1, 1, 5, 10, 25, 50]}\n",
        "\n",
        "\n",
        "est = LogisticRegression(random_state=42, max_iter=5000)\n",
        "clf = GridSearchCV(estimator=est, cv=5, param_grid=param_grid, refit=True)\n",
        "clf = clf.fit(X_train_ros, torch.ravel(y_train_ros))\n",
        "\n",
        "results = clf.cv_results_\n",
        "best_run = np.argmax(results['mean_test_score'])\n",
        "best_params = results['params'][best_run]\n",
        "print(f'\\nBest hyperparameters: {best_params}')\n",
        "    \n",
        "# get best model\n",
        "best_model = clf.best_estimator_\n",
        "y_pred = best_model.predict(X_test_lr)\n",
        "\n",
        "pred1 = np.where(y_pred < 0.5, 'Respondent', 'Petitioner')\n",
        "y_true = np.where(y_test_lr == 0, 'Respondent', 'Petitioner')\n",
        "cm = confusion_matrix(y_true, pred1, labels=['Respondent', 'Petitioner'])\n",
        "cmd = ConfusionMatrixDisplay(cm, display_labels=['Respondent', 'Petitioner'])\n",
        "plt.rc('font', size = 22)\n",
        "cmd.plot()"
      ],
      "metadata": {
        "id": "VVveNSxQJdfh",
        "colab": {
          "base_uri": "https://localhost:8080/",
          "height": 530
        },
        "outputId": "520a14e2-cd65-4142-b656-5232cf29b1d7"
      },
      "execution_count": null,
      "outputs": [
        {
          "output_type": "stream",
          "name": "stdout",
          "text": [
            "\n",
            "Best hyperparameters: {'C': 25}\n"
          ]
        },
        {
          "output_type": "execute_result",
          "data": {
            "text/plain": [
              "<sklearn.metrics._plot.confusion_matrix.ConfusionMatrixDisplay at 0x7fa6ed493eb0>"
            ]
          },
          "metadata": {},
          "execution_count": 15
        },
        {
          "output_type": "display_data",
          "data": {
            "text/plain": [
              "<Figure size 640x480 with 2 Axes>"
            ],
            "image/png": "[encoded data removed]"
          },
          "metadata": {}
        }
      ]
    },
    {
      "cell_type": "code",
      "source": [
        "# calculate accuracy\n",
        "(y_pred == np.array(y_test_lr.squeeze())).mean()"
      ],
      "metadata": {
        "colab": {
          "base_uri": "https://localhost:8080/"
        },
        "id": "4lhaZWgJUFYW",
        "outputId": "18f21236-87cf-4677-ec18-cbac58a67447"
      },
      "execution_count": null,
      "outputs": [
        {
          "output_type": "execute_result",
          "data": {
            "text/plain": [
              "0.6194029850746269"
            ]
          },
          "metadata": {},
          "execution_count": 16
        }
      ]
    },
    {
      "cell_type": "code",
      "source": [
        "# get classification report\n",
        "target_names = ['Respondent', 'Petitioner']\n",
        "print(classification_report(y_true, pred1, target_names=target_names))"
      ],
      "metadata": {
        "colab": {
          "base_uri": "https://localhost:8080/"
        },
        "id": "9zSWTmZFpazb",
        "outputId": "9cd93c36-ba3b-4e10-d811-fef9059e0253"
      },
      "execution_count": null,
      "outputs": [
        {
          "output_type": "stream",
          "name": "stdout",
          "text": [
            "              precision    recall  f1-score   support\n",
            "\n",
            "  Respondent       0.67      0.76      0.71        83\n",
            "  Petitioner       0.50      0.39      0.44        51\n",
            "\n",
            "    accuracy                           0.62       134\n",
            "   macro avg       0.59      0.58      0.58       134\n",
            "weighted avg       0.61      0.62      0.61       134\n",
            "\n"
          ]
        }
      ]
    },
    {
      "cell_type": "markdown",
      "source": [
        "## SVM"
      ],
      "metadata": {
        "id": "e4TYeNcGZiqS"
      }
    },
    {
      "cell_type": "code",
      "source": [
        "# SVM Classifier\n",
        "\n",
        "param_grid = {'C': [0.0001, .001, .01, .1, 1, 5, 10, 25, 50]}\n",
        "est = SVC(random_state=42, max_iter=5000)\n",
        "clf = GridSearchCV(estimator=est, cv=5, param_grid=param_grid, refit=True)\n",
        "clf = clf.fit(X_train_ros, torch.ravel(y_train_ros))\n",
        "\n",
        "results = clf.cv_results_\n",
        "best_run = np.argmax(results['mean_test_score'])\n",
        "best_params = results['params'][best_run]\n",
        "print(f'\\nBest hyperparameters: {best_params}')\n",
        "    \n",
        "# get best model\n",
        "best_model = clf.best_estimator_\n",
        "y_pred = best_model.predict(X_test_lr)\n",
        "pred1 = np.where(y_pred < 0.5, 'Respondent', 'Petitioner')\n",
        "y_true = np.where(y_test_lr == 0, 'Respondent', 'Petitioner')\n",
        "cm = confusion_matrix(y_true, pred1, labels=['Respondent', 'Petitioner'])\n",
        "cmd = ConfusionMatrixDisplay(cm, display_labels=['Respondent', 'Petitioner'])\n",
        "plt.rc('font', size = 22)\n",
        "cmd.plot()"
      ],
      "metadata": {
        "colab": {
          "base_uri": "https://localhost:8080/",
          "height": 530
        },
        "id": "o8-Lz0JRZkK4",
        "outputId": "d5b4e611-3213-4527-ddec-e1093144385a"
      },
      "execution_count": null,
      "outputs": [
        {
          "output_type": "stream",
          "name": "stdout",
          "text": [
            "\n",
            "Best hyperparameters: {'C': 10}\n"
          ]
        },
        {
          "output_type": "execute_result",
          "data": {
            "text/plain": [
              "<sklearn.metrics._plot.confusion_matrix.ConfusionMatrixDisplay at 0x7fa5f01f72e0>"
            ]
          },
          "metadata": {},
          "execution_count": 18
        },
        {
          "output_type": "display_data",
          "data": {
            "text/plain": [
              "<Figure size 640x480 with 2 Axes>"
            ],
            "image/png": "[encoded data removed]"
          },
          "metadata": {}
        }
      ]
    },
    {
      "cell_type": "code",
      "source": [
        "# classification report\n",
        "target_names = ['Respondent', 'Petitioner']\n",
        "print(classification_report(y_true, pred1, target_names=target_names))"
      ],
      "metadata": {
        "colab": {
          "base_uri": "https://localhost:8080/"
        },
        "id": "rjtiUP3Sa8KX",
        "outputId": "0c2947ab-0872-413d-c2d8-f7308b0bf29f"
      },
      "execution_count": null,
      "outputs": [
        {
          "output_type": "stream",
          "name": "stdout",
          "text": [
            "              precision    recall  f1-score   support\n",
            "\n",
            "  Respondent       0.65      0.82      0.72        83\n",
            "  Petitioner       0.48      0.27      0.35        51\n",
            "\n",
            "    accuracy                           0.61       134\n",
            "   macro avg       0.57      0.55      0.54       134\n",
            "weighted avg       0.58      0.61      0.58       134\n",
            "\n"
          ]
        }
      ]
    },
    {
      "cell_type": "markdown",
      "source": [
        "------"
      ],
      "metadata": {
        "id": "R-R88j2k_zub"
      }
    },
    {
      "cell_type": "markdown",
      "source": [
        "## Simple Neural Network"
      ],
      "metadata": {
        "id": "A-KMsbbT_4rZ"
      }
    },
    {
      "cell_type": "code",
      "source": [
        "# write the class\n",
        "\n",
        "class NgramModel(nn.Module):\n",
        "    def __init__(self, input_size, dropout, hidden_dim1, hidden_dim2, output_dim):\n",
        "        super(NgramModel, self).__init__()\n",
        "        self.linear1 = nn.Linear(input_size, hidden_dim1) \n",
        "        self.linear2 = nn.Linear(hidden_dim1, hidden_dim2)\n",
        "        self.linear3 = nn.Linear(hidden_dim2, output_dim)\n",
        "        self.dropout = nn.Dropout(dropout)\n",
        "        self.nonlinear1 = nn.Tanh()\n",
        "        self.nonlinear2 = nn.ReLU()\n",
        "        # self.hidden_dim1 = hidden_dim1\n",
        "\n",
        "    def forward(self, x):\n",
        "        out = self.linear1(x)\n",
        "        out = self.nonlinear1(out)\n",
        "        out = self.dropout(out)\n",
        "        out = self.linear2(out)\n",
        "        out = self.nonlinear2(out)\n",
        "        out = self.dropout(out)\n",
        "        out = self.linear3(out)\n",
        "        log_prob = F.log_softmax(out, dim=1)\n",
        "        return log_prob\n"
      ],
      "metadata": {
        "id": "hjDDgZS2JrHO"
      },
      "execution_count": null,
      "outputs": []
    },
    {
      "cell_type": "code",
      "source": [
        "# loss_function = torch.nn.MSELoss()\n",
        "loss_function = nn.CrossEntropyLoss()\n",
        "# loss_function = nn.NLLLoss()\n",
        "\n",
        "def train_an_epoch(dataloader):\n",
        "    model.train() # Sets the module in training mode.\n",
        "    log_interval = 20\n",
        "    curr_loss = np.Inf\n",
        "\n",
        "    for idx, (text, label) in enumerate(dataloader):\n",
        "        label = label.squeeze().long() # for non mse loss fn\n",
        "        model.zero_grad()\n",
        "        log_probs = model(text)\n",
        "        loss = loss_function(log_probs, label)\n",
        "        loss.backward()\n",
        "        optimizer.step()\n",
        "        if idx % log_interval == 0 and idx > 0:\n",
        "            print(f'At iteration {idx} the loss is {loss:.3f}.')"
      ],
      "metadata": {
        "id": "WFFuTnWnuzQ8"
      },
      "execution_count": null,
      "outputs": []
    },
    {
      "cell_type": "code",
      "source": [
        "def get_accuracy(dataloader):\n",
        "    model.eval()\n",
        "    with torch.no_grad():    \n",
        "        total_acc, total_count = 0, 0\n",
        "        prediction = []\n",
        "        for idx, (word_idxs, label) in enumerate(dataloader):\n",
        "            probs = model(word_idxs)\n",
        "            total_acc += (probs.argmax(1) == label.squeeze()).sum().item()\n",
        "            prediction.append(probs.argmax(1))\n",
        "            total_count += word_idxs.size(0)\n",
        "\n",
        "    return prediction, total_acc/total_count"
      ],
      "metadata": {
        "id": "LavTEpO-1I3P"
      },
      "execution_count": null,
      "outputs": []
    },
    {
      "cell_type": "code",
      "source": [
        "# Initialize model\n",
        "model = NgramModel(input_size = input_matrix.shape[1],\n",
        "                   dropout = 0.4, # previously 0.4\n",
        "                   hidden_dim1 = 256,\n",
        "                   hidden_dim2 = 128,\n",
        "                   output_dim = 2) # either 1 or 0"
      ],
      "metadata": {
        "id": "9M5k3uLgwJma"
      },
      "execution_count": null,
      "outputs": []
    },
    {
      "cell_type": "code",
      "source": [
        "# train the model\n",
        "EPOCHS = 15\n",
        "optimizer = torch.optim.Adam(model.parameters(), lr=1e-5)\n",
        "\n",
        "accuracies=[]\n",
        "for epoch in range(1, EPOCHS + 1):\n",
        "    train_an_epoch(train_dataloader)\n",
        "    pred, accuracy = get_accuracy(val_dataloader)\n",
        "    accuracies.append(accuracy)\n",
        "    print(f'Epoch: {epoch}, validation accuracy: {accuracy:.3f}.')"
      ],
      "metadata": {
        "id": "r4n-eAtLLhM1",
        "colab": {
          "base_uri": "https://localhost:8080/"
        },
        "outputId": "90bb85b8-66cd-4bcb-9016-3147b0cc5142"
      },
      "execution_count": null,
      "outputs": [
        {
          "output_type": "stream",
          "name": "stdout",
          "text": [
            "At iteration 20 the loss is 0.674.\n",
            "At iteration 40 the loss is 0.605.\n",
            "At iteration 60 the loss is 0.663.\n",
            "At iteration 80 the loss is 0.659.\n",
            "Epoch: 1, validation accuracy: 0.478.\n",
            "At iteration 20 the loss is 0.716.\n",
            "At iteration 40 the loss is 0.644.\n",
            "At iteration 60 the loss is 0.646.\n",
            "At iteration 80 the loss is 0.585.\n",
            "Epoch: 2, validation accuracy: 0.612.\n",
            "At iteration 20 the loss is 0.645.\n",
            "At iteration 40 the loss is 0.616.\n",
            "At iteration 60 the loss is 0.549.\n",
            "At iteration 80 the loss is 0.659.\n",
            "Epoch: 3, validation accuracy: 0.567.\n",
            "At iteration 20 the loss is 0.559.\n",
            "At iteration 40 the loss is 0.619.\n",
            "At iteration 60 the loss is 0.563.\n",
            "At iteration 80 the loss is 0.504.\n",
            "Epoch: 4, validation accuracy: 0.493.\n",
            "At iteration 20 the loss is 0.532.\n",
            "At iteration 40 the loss is 0.462.\n",
            "At iteration 60 the loss is 0.523.\n",
            "At iteration 80 the loss is 0.432.\n",
            "Epoch: 5, validation accuracy: 0.657.\n",
            "At iteration 20 the loss is 0.518.\n",
            "At iteration 40 the loss is 0.443.\n",
            "At iteration 60 the loss is 0.423.\n",
            "At iteration 80 the loss is 0.420.\n",
            "Epoch: 6, validation accuracy: 0.582.\n",
            "At iteration 20 the loss is 0.388.\n",
            "At iteration 40 the loss is 0.421.\n",
            "At iteration 60 the loss is 0.411.\n",
            "At iteration 80 the loss is 0.597.\n",
            "Epoch: 7, validation accuracy: 0.627.\n",
            "At iteration 20 the loss is 0.460.\n",
            "At iteration 40 the loss is 0.418.\n",
            "At iteration 60 the loss is 0.307.\n",
            "At iteration 80 the loss is 0.456.\n",
            "Epoch: 8, validation accuracy: 0.642.\n",
            "At iteration 20 the loss is 0.367.\n",
            "At iteration 40 the loss is 0.447.\n",
            "At iteration 60 the loss is 0.457.\n",
            "At iteration 80 the loss is 0.325.\n",
            "Epoch: 9, validation accuracy: 0.642.\n",
            "At iteration 20 the loss is 0.357.\n",
            "At iteration 40 the loss is 0.367.\n",
            "At iteration 60 the loss is 0.300.\n",
            "At iteration 80 the loss is 0.306.\n",
            "Epoch: 10, validation accuracy: 0.657.\n",
            "At iteration 20 the loss is 0.217.\n",
            "At iteration 40 the loss is 0.221.\n",
            "At iteration 60 the loss is 0.296.\n",
            "At iteration 80 the loss is 0.399.\n",
            "Epoch: 11, validation accuracy: 0.642.\n",
            "At iteration 20 the loss is 0.187.\n",
            "At iteration 40 the loss is 0.200.\n",
            "At iteration 60 the loss is 0.193.\n",
            "At iteration 80 the loss is 0.131.\n",
            "Epoch: 12, validation accuracy: 0.642.\n",
            "At iteration 20 the loss is 0.160.\n",
            "At iteration 40 the loss is 0.151.\n",
            "At iteration 60 the loss is 0.125.\n",
            "At iteration 80 the loss is 0.198.\n",
            "Epoch: 13, validation accuracy: 0.612.\n",
            "At iteration 20 the loss is 0.196.\n",
            "At iteration 40 the loss is 0.133.\n",
            "At iteration 60 the loss is 0.175.\n",
            "At iteration 80 the loss is 0.159.\n",
            "Epoch: 14, validation accuracy: 0.612.\n",
            "At iteration 20 the loss is 0.109.\n",
            "At iteration 40 the loss is 0.156.\n",
            "At iteration 60 the loss is 0.080.\n",
            "At iteration 80 the loss is 0.120.\n",
            "Epoch: 15, validation accuracy: 0.642.\n"
          ]
        }
      ]
    },
    {
      "cell_type": "code",
      "source": [
        "# plot validation accuracy on epoch\n",
        "plt.plot(range(1, EPOCHS+1), accuracies)\n",
        "plt.rc('font', size = 16)\n",
        "plt.savefig(PATH + 'NN.png', bbox_inches='tight')"
      ],
      "metadata": {
        "colab": {
          "base_uri": "https://localhost:8080/",
          "height": 436
        },
        "id": "nEzP6h7H5BDw",
        "outputId": "1fe4a7e0-7244-4321-8df7-fb63ba1b6ee8"
      },
      "execution_count": null,
      "outputs": [
        {
          "output_type": "display_data",
          "data": {
            "text/plain": [
              "<Figure size 640x480 with 1 Axes>"
            ],
            "image/png": "[encoded data removed]"
          },
          "metadata": {}
        }
      ]
    },
    {
      "cell_type": "code",
      "source": [
        "# test accuracy\n",
        "def get_test_result(dataloader):\n",
        "    model.eval()\n",
        "    prediction = []\n",
        "    with torch.no_grad():    \n",
        "        total_acc, total_count = 0, 0\n",
        "        for idx, (word_idxs, label) in enumerate(dataloader):\n",
        "            probs = model(word_idxs)\n",
        "            total_acc += (probs.argmax(1) == label.squeeze()).sum().item()\n",
        "            prediction.append(probs.argmax(1))\n",
        "            total_count += word_idxs.size(0)\n",
        "    accuracy = total_acc/total_count\n",
        "    return prediction, accuracy"
      ],
      "metadata": {
        "id": "pxPrx5rJatK0"
      },
      "execution_count": null,
      "outputs": []
    },
    {
      "cell_type": "code",
      "source": [
        "# accuracy\n",
        "pred, acc = get_test_result(test_dataloader) # unigrams\n",
        "print(acc)\n",
        "pred1 = torch.cat(pred).reshape(y_test.shape)"
      ],
      "metadata": {
        "colab": {
          "base_uri": "https://localhost:8080/"
        },
        "id": "VnmaYSEdkoip",
        "outputId": "53d587bf-9c87-49dc-e60c-d393c00445d6"
      },
      "execution_count": null,
      "outputs": [
        {
          "output_type": "stream",
          "name": "stdout",
          "text": [
            "0.5373134328358209\n"
          ]
        }
      ]
    },
    {
      "cell_type": "code",
      "source": [
        "# classification report\n",
        "target_names = ['Respondent', 'Petitioner']\n",
        "print(classification_report(y_test, pred1, target_names=target_names))"
      ],
      "metadata": {
        "colab": {
          "base_uri": "https://localhost:8080/"
        },
        "id": "4YQBvsP8SBey",
        "outputId": "f2ef8842-a6ba-45f8-d293-ad900e1bc04f"
      },
      "execution_count": null,
      "outputs": [
        {
          "output_type": "stream",
          "name": "stdout",
          "text": [
            "              precision    recall  f1-score   support\n",
            "\n",
            "  Respondent       0.61      0.35      0.45        31\n",
            "  Petitioner       0.59      0.81      0.68        36\n",
            "\n",
            "    accuracy                           0.60        67\n",
            "   macro avg       0.60      0.58      0.57        67\n",
            "weighted avg       0.60      0.60      0.57        67\n",
            "\n"
          ]
        }
      ]
    },
    {
      "cell_type": "markdown",
      "source": [
        "## Tree-based models"
      ],
      "metadata": {
        "id": "tDJ5UgZ15XI2"
      }
    },
    {
      "cell_type": "markdown",
      "source": [
        "### Boosted Trees"
      ],
      "metadata": {
        "id": "Y3iS_FbjSUBp"
      }
    },
    {
      "cell_type": "code",
      "source": [
        "# function to run gradient boosted tree w/ randomized search hyperparameter tuning\n",
        "def find_best_params_run(X_train, y_train, X_test, y_test, param_grid, model):\n",
        "    '''\n",
        "    Uses RandomSearchCV to find best hyperparameters, uses best model to fit training data\n",
        "    and then prints accuracy, precision & recall scores, confusion matrix and decision tree for\n",
        "    easy visualization.\n",
        "    \n",
        "    Inputs:\n",
        "        X_train, X_test (pandas DataFrames): train & test set features created from train/test split\n",
        "            above\n",
        "        y_train, y_test (pandas Series): train & test outcome variable ('foil_status') created from \n",
        "            train/test split above\n",
        "        param_grid (dict): hyperparameters (keys) and potential values (values) for RandomizedSearchCV to tune\n",
        "        model (str): either 'xgb' for XGBoost or any string for LightGBM model\n",
        "        \n",
        "    Returns: nothing\n",
        "    '''\n",
        "    if model == 'xgb':\n",
        "        est = xgb.XGBClassifier(objective=\"binary:logistic\", random_state=42)\n",
        "\n",
        "    else:\n",
        "        est = lgb.LGBMClassifier(objective='binary')\n",
        "        \n",
        "    clf = RandomizedSearchCV(estimator=est, cv=5, param_distributions=param_grid, n_jobs=-1, verbose=-1,  refit=True)\n",
        "    \n",
        "    clf = clf.fit(X_train, y_train)\n",
        "\n",
        "    results = clf.cv_results_\n",
        "    \n",
        "    best_run = np.argmax(results['mean_test_score'])\n",
        "    best_params = results['params'][best_run]\n",
        "    \n",
        "    print(f'\\nBest params: {best_params}')\n",
        "    \n",
        "    # get best model from CV\n",
        "    best_model = clf.best_estimator_\n",
        "    \n",
        "    # prediction\n",
        "    y_pred = best_model.predict(X_test)\n",
        "    \n",
        "    # create confusion matrix\n",
        "    pred1 = np.where(y_pred == 0, 'Respondent', 'Petitioner')\n",
        "    y_true = np.where(y_test == 0, 'Respondent', 'Petitioner')\n",
        "    cm = confusion_matrix(y_true, pred1, labels=['Respondent', 'Petitioner'])\n",
        "    cmd = ConfusionMatrixDisplay(cm, display_labels=['Respondent', 'Petitioner'])\n",
        "    plt.rc('font', size = 22)\n",
        "    cmd.plot()\n",
        "\n",
        "    # Evaluate using the accuracy\n",
        "    print(f\"\\nCorrect Prediction Rate = {(y_true == pred1).mean():.4f}\")\n",
        "    print(f\"Precision = {precision_score(y_true, pred1, pos_label = 'Petitioner'):.4f}\")\n",
        "    print(f\"Recall = {recall_score(y_true, pred1, pos_label = 'Petitioner'):.4f}\")\n",
        "\n",
        "    target_names = ['Respondent', 'Petitioner']\n",
        "    print(classification_report(y_true, pred1, target_names=target_names))\n"
      ],
      "metadata": {
        "id": "y3Fku0cyEsYb"
      },
      "execution_count": null,
      "outputs": []
    },
    {
      "cell_type": "code",
      "source": [
        "# run xgboost -- takes too long\n",
        "# param_grid_xg = {'gamma': [0, 1, 10, 50, 100],\n",
        "#               'learning_rate': [0.0001, 0.001, 0.005, 0.01, 0.1, 0.5],\n",
        "#               'max_depth': [3, 6, 10],\n",
        "#               'min_child_weight': [0.01, 0.1, 0.5, 1, 5, 10],\n",
        "#               'n_estimators': [50, 100, 150],\n",
        "#               'reg_alpha': [0,0.1,0.5,1,10,50,100],\n",
        "#               'reg_lambda': [0,0.1,0.5,1,10,50,100]}\n",
        "\n",
        "# find_best_params_run(X_train_ros, torch.ravel(y_train_ros), X_test, y_test, param_grid_xg, 'xgb')"
      ],
      "metadata": {
        "id": "OWbMc0GTJDdo"
      },
      "execution_count": null,
      "outputs": []
    },
    {
      "cell_type": "code",
      "source": [
        "# run lightgbm\n",
        "param_grid_lgbm = {'boosting_type': ['gbdt', 'dart', 'rf'],\n",
        "                'learning_rate': [0.0001, 0.001, 0.005, 0.01, 0.1, 0.5],\n",
        "              'num_leaves': [10, 25, 50, 75, 100],\n",
        "              'max_depth': [15, 30, 45, 60, 75, 90, 100],\n",
        "              'reg_alpha': [0.001, .01, 0.1,0.5,1,10,50,100],\n",
        "              'reg_lambda': [0.001, 0.01, 0.1,0.5,1,10,50,100]}\n",
        "\n",
        "find_best_params_run(X_train_ros, torch.ravel(y_train_ros), X_test_lr, y_test_lr, param_grid_lgbm, 'lgbm')"
      ],
      "metadata": {
        "colab": {
          "base_uri": "https://localhost:8080/",
          "height": 1000
        },
        "id": "M6uHaq2ZJFxO",
        "outputId": "25dcf566-fe2b-4acc-db1e-9b1c5ca48db2"
      },
      "execution_count": null,
      "outputs": [
        {
          "output_type": "stream",
          "name": "stderr",
          "text": [
            "/usr/local/lib/python3.10/dist-packages/sklearn/model_selection/_validation.py:378: FitFailedWarning: \n",
            "10 fits failed out of a total of 50.\n",
            "The score on these train-test partitions for these parameters will be set to nan.\n",
            "If these failures are not expected, you can try to debug them by setting error_score='raise'.\n",
            "\n",
            "Below are more details about the failures:\n",
            "--------------------------------------------------------------------------------\n",
            "10 fits failed with the following error:\n",
            "Traceback (most recent call last):\n",
            "  File \"/usr/local/lib/python3.10/dist-packages/sklearn/model_selection/_validation.py\", line 686, in _fit_and_score\n",
            "    estimator.fit(X_train, y_train, **fit_params)\n",
            "  File \"/usr/local/lib/python3.10/dist-packages/lightgbm/sklearn.py\", line 967, in fit\n",
            "    super().fit(X, _y, sample_weight=sample_weight, init_score=init_score, eval_set=valid_sets,\n",
            "  File \"/usr/local/lib/python3.10/dist-packages/lightgbm/sklearn.py\", line 748, in fit\n",
            "    self._Booster = train(\n",
            "  File \"/usr/local/lib/python3.10/dist-packages/lightgbm/engine.py\", line 271, in train\n",
            "    booster = Booster(params=params, train_set=train_set)\n",
            "  File \"/usr/local/lib/python3.10/dist-packages/lightgbm/basic.py\", line 2610, in __init__\n",
            "    _safe_call(_LIB.LGBM_BoosterCreate(\n",
            "  File \"/usr/local/lib/python3.10/dist-packages/lightgbm/basic.py\", line 125, in _safe_call\n",
            "    raise LightGBMError(_LIB.LGBM_GetLastError().decode('utf-8'))\n",
            "lightgbm.basic.LightGBMError: Check failed: config->bagging_freq > 0 && config->bagging_fraction < 1.0f && config->bagging_fraction > 0.0f at /__w/1/s/python-package/compile/src/boosting/rf.hpp, line 35 .\n",
            "\n",
            "\n",
            "  warnings.warn(some_fits_failed_message, FitFailedWarning)\n",
            "/usr/local/lib/python3.10/dist-packages/sklearn/model_selection/_search.py:952: UserWarning: One or more of the test scores are non-finite: [0.49708029 0.63168742 0.76477029        nan 0.73256763 0.75306999\n",
            "        nan 0.49708029 0.73255689 0.49708029]\n",
            "  warnings.warn(\n"
          ]
        },
        {
          "output_type": "stream",
          "name": "stdout",
          "text": [
            "\n",
            "Best params: {'reg_lambda': 0.001, 'reg_alpha': 10, 'num_leaves': 75, 'max_depth': 30, 'learning_rate': 0.5, 'boosting_type': 'rf'}\n",
            "\n",
            "Correct Prediction Rate = 0.5570\n",
            "Precision = 0.6263\n",
            "Recall = 0.7470\n",
            "              precision    recall  f1-score   support\n",
            "\n",
            "  Respondent       0.63      0.75      0.68        83\n",
            "  Petitioner       0.40      0.27      0.33        51\n",
            "\n",
            "    accuracy                           0.57       134\n",
            "   macro avg       0.51      0.51      0.50       134\n",
            "weighted avg       0.54      0.57      0.55       134\n",
            "\n"
          ]
        },
        {
          "output_type": "display_data",
          "data": {
            "text/plain": [
              "<Figure size 640x480 with 2 Axes>"
            ],
            "image/png": "[encoded data removed]"
          },
          "metadata": {}
        }
      ]
    },
    {
      "cell_type": "markdown",
      "source": [
        "### Random Forest \n"
      ],
      "metadata": {
        "id": "dqdl1xIwwXrx"
      }
    },
    {
      "cell_type": "code",
      "source": [
        "from sklearn.ensemble import RandomForestClassifier\n",
        "\n",
        "# Number of trees in random forest\n",
        "n_estimators = [int(x) for x in np.linspace(start = 10, stop = 200, num = 20)]\n",
        "# Maximum number of levels in tree\n",
        "max_depth = [int(x) for x in np.linspace(10, 110, num = 11)]\n",
        "max_depth.append(None)\n",
        "# Minimum number of samples required to split a node\n",
        "min_samples_split = [2, 5, 10]\n",
        "# Minimum number of samples required at each leaf node\n",
        "min_samples_leaf = [1, 2, 4]\n",
        "# Method of selecting samples for training each tree\n",
        "bootstrap = [True, False]\n",
        "# Create the random grid\n",
        "param_grid_rf = {'n_estimators': n_estimators,\n",
        "               'max_depth': max_depth,\n",
        "               'min_samples_split': min_samples_split,\n",
        "               'min_samples_leaf': min_samples_leaf,\n",
        "               'bootstrap': bootstrap}\n",
        "\n",
        "        \n",
        "est = RandomForestClassifier(random_state=0)\n",
        "\n",
        "clf = RandomizedSearchCV(estimator=est, cv=5, param_distributions=param_grid_rf, refit=True)\n",
        "clf = clf.fit(X_train_ros, torch.ravel(y_train_ros))\n",
        "# y_pred = clf.predict(X_test)\n",
        "results = clf.cv_results_\n",
        "best_run = np.argmax(results['mean_test_score'])\n",
        "best_params = results['params'][best_run]\n",
        "print(f'\\nBest params: {best_params}')\n",
        "    \n",
        "# get best model\n",
        "best_model = clf.best_estimator_\n",
        "y_pred = best_model.predict(X_test_lr)\n",
        "\n",
        "    # confusion matrix\n",
        "pred1 = np.where(y_pred == 0, 'Respondent', 'Petitioner')\n",
        "y_true = np.where(y_test_lr == 0, 'Respondent', 'Petitioner')\n",
        "cm = confusion_matrix(y_true, pred1, labels=['Respondent', 'Petitioner'])\n",
        "cmd = ConfusionMatrixDisplay(cm, display_labels=['Respondent', 'Petitioner'])\n",
        "plt.rc('font', size = 22)\n",
        "cmd.plot()\n",
        "\n",
        "# # Evaluate using the accuracy\n",
        "# print(f\"\\nCorrect Prediction Rate = {(y_true == pred1).mean():.4f}\")\n",
        "# print(f\"Precision = {precision_score(y_true, pred1, pos_label = 'Petitioner'):.4f}\")\n",
        "# print(f\"Recall = {recall_score(y_true, pred1, pos_label = 'Petitioner'):.4f}\")\n",
        "    "
      ],
      "metadata": {
        "colab": {
          "base_uri": "https://localhost:8080/",
          "height": 542
        },
        "id": "dzGPloYr_v4u",
        "outputId": "585cae8a-b23f-41d8-cb0f-3a71a9e471d1"
      },
      "execution_count": null,
      "outputs": [
        {
          "output_type": "stream",
          "name": "stdout",
          "text": [
            "\n",
            "Best params: {'n_estimators': 170, 'min_samples_split': 5, 'min_samples_leaf': 2, 'max_depth': 50, 'bootstrap': True}\n"
          ]
        },
        {
          "output_type": "execute_result",
          "data": {
            "text/plain": [
              "<sklearn.metrics._plot.confusion_matrix.ConfusionMatrixDisplay at 0x7fa64f64fe50>"
            ]
          },
          "metadata": {},
          "execution_count": 46
        },
        {
          "output_type": "display_data",
          "data": {
            "text/plain": [
              "<Figure size 640x480 with 2 Axes>"
            ],
            "image/png": "[encoded data removed]"
          },
          "metadata": {}
        }
      ]
    },
    {
      "cell_type": "code",
      "source": [
        "# classification report\n",
        "target_names = ['Respondent', 'Petitioner']\n",
        "print(classification_report(y_true, pred1, target_names=target_names))"
      ],
      "metadata": {
        "id": "XyTwxC5htlFR",
        "outputId": "f0100384-1ef1-4c0c-c34a-0ab18c620eb5",
        "colab": {
          "base_uri": "https://localhost:8080/"
        }
      },
      "execution_count": null,
      "outputs": [
        {
          "output_type": "stream",
          "name": "stdout",
          "text": [
            "              precision    recall  f1-score   support\n",
            "\n",
            "  Respondent       0.62      0.96      0.76        83\n",
            "  Petitioner       0.50      0.06      0.11        51\n",
            "\n",
            "    accuracy                           0.62       134\n",
            "   macro avg       0.56      0.51      0.43       134\n",
            "weighted avg       0.58      0.62      0.51       134\n",
            "\n"
          ]
        }
      ]
    }
  ]
}