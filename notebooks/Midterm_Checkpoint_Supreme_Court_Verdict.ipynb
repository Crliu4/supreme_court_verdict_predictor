{
  "nbformat": 4,
  "nbformat_minor": 0,
  "metadata": {
    "colab": {
      "provenance": [],
      "include_colab_link": true
    },
    "kernelspec": {
      "name": "python3",
      "display_name": "Python 3"
    },
    "language_info": {
      "name": "python"
    },
    "accelerator": "GPU",
    "gpuClass": "standard"
  },
  "cells": [
    {
      "cell_type": "markdown",
      "metadata": {
        "id": "view-in-github",
        "colab_type": "text"
      },
      "source": [
        "<a href=\"https://colab.research.google.com/github/Crliu4/supreme_court_verdict_predictor/blob/main/Midterm_Checkpoint_Supreme_Court_Verdict.ipynb\" target=\"_parent\"><img src=\"https://colab.research.google.com/assets/colab-badge.svg\" alt=\"Open In Colab\"/></a>"
      ]
    },
    {
      "cell_type": "markdown",
      "source": [
        "## Supreme Court Verdict Predictor \n",
        "### Maggie Chen, Carolyn Liu, Eujene Yum"
      ],
      "metadata": {
        "id": "pzVB6Uk8keBT"
      }
    },
    {
      "cell_type": "markdown",
      "source": [
        "Data Exploration"
      ],
      "metadata": {
        "id": "UIxnwJ_0kmMk"
      }
    },
    {
      "cell_type": "code",
      "source": [
        "!export LC_ALL=en_US.UTF-8 && pip install scikit-learn==1.1.3"
      ],
      "metadata": {
        "id": "Of2R08VDnkUZ"
      },
      "execution_count": null,
      "outputs": []
    },
    {
      "cell_type": "code",
      "execution_count": null,
      "metadata": {
        "id": "i_0y30DJkR_W"
      },
      "outputs": [],
      "source": [
        "!pip install convokit\n",
        "from convokit import Corpus, download, util"
      ]
    },
    {
      "cell_type": "code",
      "source": [
        "corpus = Corpus(filename=download(\"supreme-2019\"))"
      ],
      "metadata": {
        "id": "6RYcB8Y4kdj5",
        "colab": {
          "base_uri": "https://localhost:8080/"
        },
        "outputId": "0f2d56a9-3629-42f7-bbd0-2627675d683a"
      },
      "execution_count": null,
      "outputs": [
        {
          "output_type": "stream",
          "name": "stdout",
          "text": [
            "Dataset already exists at /root/.convokit/downloads/supreme-2019\n"
          ]
        }
      ]
    },
    {
      "cell_type": "code",
      "source": [
        "corpus.print_summary_stats()"
      ],
      "metadata": {
        "colab": {
          "base_uri": "https://localhost:8080/"
        },
        "id": "jBoVIALLoe2z",
        "outputId": "ccd50bb0-c93e-410c-fc52-b13b3ba8db26"
      },
      "execution_count": null,
      "outputs": [
        {
          "output_type": "stream",
          "name": "stdout",
          "text": [
            "Number of Speakers: 113\n",
            "Number of Utterances: 13707\n",
            "Number of Conversations: 58\n"
          ]
        }
      ]
    },
    {
      "cell_type": "code",
      "source": [
        "# DISREGARD ENTIRE CELL\n",
        "# return random utterance\n",
        "# utt = corpus.random_utterance()\n",
        "# utt\n",
        "\n",
        "# creating bow transformer on this utterance. column names showing up as indicies only rather than actual unigrams.\n",
        "# from convokit import BoWTransformer\n",
        "# bow_transformer = BoWTransformer(obj_type=\"utterance\", vector_name=\"bow\")\n",
        "# bow_transformer.fit_transform(corpus)\n",
        "# df = utt.get_vector(\"bow\", as_dataframe=True)\n",
        "# df"
      ],
      "metadata": {
        "id": "mJC5mdG_oglH"
      },
      "execution_count": null,
      "outputs": []
    },
    {
      "cell_type": "markdown",
      "source": [
        "\n",
        "\n",
        "---\n",
        "\n",
        "\n",
        "\n",
        "---\n",
        "\n"
      ],
      "metadata": {
        "id": "yGRIsBkO9cL_"
      }
    },
    {
      "cell_type": "code",
      "source": [
        "from convokit import model, util"
      ],
      "metadata": {
        "id": "_wyOXNAesMsU"
      },
      "execution_count": null,
      "outputs": []
    },
    {
      "cell_type": "code",
      "source": [
        "# utterances into df\n",
        "utts = model.conversation.Conversation.get_utterances_dataframe(corpus)"
      ],
      "metadata": {
        "colab": {
          "base_uri": "https://localhost:8080/",
          "height": 918
        },
        "id": "YIkPTxugtZ_4",
        "outputId": "abd8981e-0ce8-45ce-8f37-ea8baf0171ac"
      },
      "execution_count": null,
      "outputs": [
        {
          "output_type": "execute_result",
          "data": {
            "text/plain": [
              "             timestamp                                               text  \\\n",
              "id                                                                          \n",
              "24929__0_000      None  We'll hear argument next in Case 18-877, Allen...   \n",
              "24929__0_001      None  Mr. Chief Justice, and may it please the Court...   \n",
              "24929__0_002      None  All -- all that is -- would be highly persuasi...   \n",
              "24929__0_003      None  Correct, Justice Ginsburg.\\nBut -- but the Cou...   \n",
              "24929__0_004      None                                        In -- in --   \n",
              "...                ...                                                ...   \n",
              "24969__2_007      None  -- has all sorts of meaning that you're not en...   \n",
              "24969__2_008      None                                  No, Your Honor --   \n",
              "24969__2_009      None                                     -- altogether?   \n",
              "24969__2_010      None  -- we are using the principles of complicity a...   \n",
              "24969__2_011      None        Thank you, counsel.\\nThe case is submitted.   \n",
              "\n",
              "                             speaker      reply_to conversation_id  \\\n",
              "id                                                                   \n",
              "24929__0_000    j__john_g_roberts_jr          None           24929   \n",
              "24929__0_001         derek_l_shaffer  24929__0_000           24929   \n",
              "24929__0_002  j__ruth_bader_ginsburg  24929__0_001           24929   \n",
              "24929__0_003         derek_l_shaffer  24929__0_002           24929   \n",
              "24929__0_004  j__ruth_bader_ginsburg  24929__0_003           24929   \n",
              "...                              ...           ...             ...   \n",
              "24969__2_007      j__sonia_sotomayor  24969__2_006           24969   \n",
              "24969__2_008           eric_j_feigin  24969__2_007           24969   \n",
              "24969__2_009      j__sonia_sotomayor  24969__2_008           24969   \n",
              "24969__2_010           eric_j_feigin  24969__2_009           24969   \n",
              "24969__2_011    j__john_g_roberts_jr  24969__2_010           24969   \n",
              "\n",
              "             meta.case_id                                   meta.start_times  \\\n",
              "id                                                                             \n",
              "24929__0_000  2019_18-877                                              [0.0]   \n",
              "24929__0_001  2019_18-877  [6.84, 18.52, 49.56, 57.96, 74.16, 78.68, 92.8...   \n",
              "24929__0_002  2019_18-877                   [137.96, 148.36, 150.28, 151.88]   \n",
              "24929__0_003  2019_18-877  [154.64, 155.72, 157.76, 159.64, 168.04, 169.0...   \n",
              "24929__0_004  2019_18-877                                           [200.88]   \n",
              "...                   ...                                                ...   \n",
              "24969__2_007   2019_19-67                [3496.8, 3500.32, 3502.96, 3504.68]   \n",
              "24969__2_008   2019_19-67                                          [3506.04]   \n",
              "24969__2_009   2019_19-67                                          [3506.56]   \n",
              "24969__2_010   2019_19-67                                  [3507.76, 3535.8]   \n",
              "24969__2_011   2019_19-67                                 [3536.32, 3537.28]   \n",
              "\n",
              "                                                meta.stop_times  \\\n",
              "id                                                                \n",
              "24929__0_000                                             [6.84]   \n",
              "24929__0_001  [18.52, 49.56, 57.96, 74.16, 78.68, 92.84, 108...   \n",
              "24929__0_002                   [148.36, 150.28, 151.88, 154.64]   \n",
              "24929__0_003  [155.72, 157.76, 159.64, 168.04, 169.08, 183.0...   \n",
              "24929__0_004                                           [200.92]   \n",
              "...                                                         ...   \n",
              "24969__2_007               [3500.32, 3502.96, 3504.68, 3506.04]   \n",
              "24969__2_008                                          [3506.56]   \n",
              "24969__2_009                                          [3507.76]   \n",
              "24969__2_010                                  [3535.8, 3536.32]   \n",
              "24969__2_011                                     [3537.28, 0.0]   \n",
              "\n",
              "             meta.speaker_type meta.side meta.timestamp vectors  \n",
              "id                                                               \n",
              "24929__0_000                 J      None            0.0   [bow]  \n",
              "24929__0_001                 A         1           6.84   [bow]  \n",
              "24929__0_002                 J      None         137.96   [bow]  \n",
              "24929__0_003                 A         1         154.64   [bow]  \n",
              "24929__0_004                 J      None         200.88   [bow]  \n",
              "...                        ...       ...            ...     ...  \n",
              "24969__2_007                 J      None         3496.8   [bow]  \n",
              "24969__2_008                 A         1        3506.04   [bow]  \n",
              "24969__2_009                 J      None        3506.56   [bow]  \n",
              "24969__2_010                 A         1        3507.76   [bow]  \n",
              "24969__2_011                 J      None        3536.32   [bow]  \n",
              "\n",
              "[13707 rows x 12 columns]"
            ],
            "text/html": [
              "\n",
              "  <div id=\"df-8625b17e-09bc-4200-a5cb-3984ead1994c\">\n",
              "    <div class=\"colab-df-container\">\n",
              "      <div>\n",
              "<style scoped>\n",
              "    .dataframe tbody tr th:only-of-type {\n",
              "        vertical-align: middle;\n",
              "    }\n",
              "\n",
              "    .dataframe tbody tr th {\n",
              "        vertical-align: top;\n",
              "    }\n",
              "\n",
              "    .dataframe thead th {\n",
              "        text-align: right;\n",
              "    }\n",
              "</style>\n",
              "<table border=\"1\" class=\"dataframe\">\n",
              "  <thead>\n",
              "    <tr style=\"text-align: right;\">\n",
              "      <th></th>\n",
              "      <th>timestamp</th>\n",
              "      <th>text</th>\n",
              "      <th>speaker</th>\n",
              "      <th>reply_to</th>\n",
              "      <th>conversation_id</th>\n",
              "      <th>meta.case_id</th>\n",
              "      <th>meta.start_times</th>\n",
              "      <th>meta.stop_times</th>\n",
              "      <th>meta.speaker_type</th>\n",
              "      <th>meta.side</th>\n",
              "      <th>meta.timestamp</th>\n",
              "      <th>vectors</th>\n",
              "    </tr>\n",
              "    <tr>\n",
              "      <th>id</th>\n",
              "      <th></th>\n",
              "      <th></th>\n",
              "      <th></th>\n",
              "      <th></th>\n",
              "      <th></th>\n",
              "      <th></th>\n",
              "      <th></th>\n",
              "      <th></th>\n",
              "      <th></th>\n",
              "      <th></th>\n",
              "      <th></th>\n",
              "      <th></th>\n",
              "    </tr>\n",
              "  </thead>\n",
              "  <tbody>\n",
              "    <tr>\n",
              "      <th>24929__0_000</th>\n",
              "      <td>None</td>\n",
              "      <td>We'll hear argument next in Case 18-877, Allen...</td>\n",
              "      <td>j__john_g_roberts_jr</td>\n",
              "      <td>None</td>\n",
              "      <td>24929</td>\n",
              "      <td>2019_18-877</td>\n",
              "      <td>[0.0]</td>\n",
              "      <td>[6.84]</td>\n",
              "      <td>J</td>\n",
              "      <td>None</td>\n",
              "      <td>0.0</td>\n",
              "      <td>[bow]</td>\n",
              "    </tr>\n",
              "    <tr>\n",
              "      <th>24929__0_001</th>\n",
              "      <td>None</td>\n",
              "      <td>Mr. Chief Justice, and may it please the Court...</td>\n",
              "      <td>derek_l_shaffer</td>\n",
              "      <td>24929__0_000</td>\n",
              "      <td>24929</td>\n",
              "      <td>2019_18-877</td>\n",
              "      <td>[6.84, 18.52, 49.56, 57.96, 74.16, 78.68, 92.8...</td>\n",
              "      <td>[18.52, 49.56, 57.96, 74.16, 78.68, 92.84, 108...</td>\n",
              "      <td>A</td>\n",
              "      <td>1</td>\n",
              "      <td>6.84</td>\n",
              "      <td>[bow]</td>\n",
              "    </tr>\n",
              "    <tr>\n",
              "      <th>24929__0_002</th>\n",
              "      <td>None</td>\n",
              "      <td>All -- all that is -- would be highly persuasi...</td>\n",
              "      <td>j__ruth_bader_ginsburg</td>\n",
              "      <td>24929__0_001</td>\n",
              "      <td>24929</td>\n",
              "      <td>2019_18-877</td>\n",
              "      <td>[137.96, 148.36, 150.28, 151.88]</td>\n",
              "      <td>[148.36, 150.28, 151.88, 154.64]</td>\n",
              "      <td>J</td>\n",
              "      <td>None</td>\n",
              "      <td>137.96</td>\n",
              "      <td>[bow]</td>\n",
              "    </tr>\n",
              "    <tr>\n",
              "      <th>24929__0_003</th>\n",
              "      <td>None</td>\n",
              "      <td>Correct, Justice Ginsburg.\\nBut -- but the Cou...</td>\n",
              "      <td>derek_l_shaffer</td>\n",
              "      <td>24929__0_002</td>\n",
              "      <td>24929</td>\n",
              "      <td>2019_18-877</td>\n",
              "      <td>[154.64, 155.72, 157.76, 159.64, 168.04, 169.0...</td>\n",
              "      <td>[155.72, 157.76, 159.64, 168.04, 169.08, 183.0...</td>\n",
              "      <td>A</td>\n",
              "      <td>1</td>\n",
              "      <td>154.64</td>\n",
              "      <td>[bow]</td>\n",
              "    </tr>\n",
              "    <tr>\n",
              "      <th>24929__0_004</th>\n",
              "      <td>None</td>\n",
              "      <td>In -- in --</td>\n",
              "      <td>j__ruth_bader_ginsburg</td>\n",
              "      <td>24929__0_003</td>\n",
              "      <td>24929</td>\n",
              "      <td>2019_18-877</td>\n",
              "      <td>[200.88]</td>\n",
              "      <td>[200.92]</td>\n",
              "      <td>J</td>\n",
              "      <td>None</td>\n",
              "      <td>200.88</td>\n",
              "      <td>[bow]</td>\n",
              "    </tr>\n",
              "    <tr>\n",
              "      <th>...</th>\n",
              "      <td>...</td>\n",
              "      <td>...</td>\n",
              "      <td>...</td>\n",
              "      <td>...</td>\n",
              "      <td>...</td>\n",
              "      <td>...</td>\n",
              "      <td>...</td>\n",
              "      <td>...</td>\n",
              "      <td>...</td>\n",
              "      <td>...</td>\n",
              "      <td>...</td>\n",
              "      <td>...</td>\n",
              "    </tr>\n",
              "    <tr>\n",
              "      <th>24969__2_007</th>\n",
              "      <td>None</td>\n",
              "      <td>-- has all sorts of meaning that you're not en...</td>\n",
              "      <td>j__sonia_sotomayor</td>\n",
              "      <td>24969__2_006</td>\n",
              "      <td>24969</td>\n",
              "      <td>2019_19-67</td>\n",
              "      <td>[3496.8, 3500.32, 3502.96, 3504.68]</td>\n",
              "      <td>[3500.32, 3502.96, 3504.68, 3506.04]</td>\n",
              "      <td>J</td>\n",
              "      <td>None</td>\n",
              "      <td>3496.8</td>\n",
              "      <td>[bow]</td>\n",
              "    </tr>\n",
              "    <tr>\n",
              "      <th>24969__2_008</th>\n",
              "      <td>None</td>\n",
              "      <td>No, Your Honor --</td>\n",
              "      <td>eric_j_feigin</td>\n",
              "      <td>24969__2_007</td>\n",
              "      <td>24969</td>\n",
              "      <td>2019_19-67</td>\n",
              "      <td>[3506.04]</td>\n",
              "      <td>[3506.56]</td>\n",
              "      <td>A</td>\n",
              "      <td>1</td>\n",
              "      <td>3506.04</td>\n",
              "      <td>[bow]</td>\n",
              "    </tr>\n",
              "    <tr>\n",
              "      <th>24969__2_009</th>\n",
              "      <td>None</td>\n",
              "      <td>-- altogether?</td>\n",
              "      <td>j__sonia_sotomayor</td>\n",
              "      <td>24969__2_008</td>\n",
              "      <td>24969</td>\n",
              "      <td>2019_19-67</td>\n",
              "      <td>[3506.56]</td>\n",
              "      <td>[3507.76]</td>\n",
              "      <td>J</td>\n",
              "      <td>None</td>\n",
              "      <td>3506.56</td>\n",
              "      <td>[bow]</td>\n",
              "    </tr>\n",
              "    <tr>\n",
              "      <th>24969__2_010</th>\n",
              "      <td>None</td>\n",
              "      <td>-- we are using the principles of complicity a...</td>\n",
              "      <td>eric_j_feigin</td>\n",
              "      <td>24969__2_009</td>\n",
              "      <td>24969</td>\n",
              "      <td>2019_19-67</td>\n",
              "      <td>[3507.76, 3535.8]</td>\n",
              "      <td>[3535.8, 3536.32]</td>\n",
              "      <td>A</td>\n",
              "      <td>1</td>\n",
              "      <td>3507.76</td>\n",
              "      <td>[bow]</td>\n",
              "    </tr>\n",
              "    <tr>\n",
              "      <th>24969__2_011</th>\n",
              "      <td>None</td>\n",
              "      <td>Thank you, counsel.\\nThe case is submitted.</td>\n",
              "      <td>j__john_g_roberts_jr</td>\n",
              "      <td>24969__2_010</td>\n",
              "      <td>24969</td>\n",
              "      <td>2019_19-67</td>\n",
              "      <td>[3536.32, 3537.28]</td>\n",
              "      <td>[3537.28, 0.0]</td>\n",
              "      <td>J</td>\n",
              "      <td>None</td>\n",
              "      <td>3536.32</td>\n",
              "      <td>[bow]</td>\n",
              "    </tr>\n",
              "  </tbody>\n",
              "</table>\n",
              "<p>13707 rows × 12 columns</p>\n",
              "</div>\n",
              "      <button class=\"colab-df-convert\" onclick=\"convertToInteractive('df-8625b17e-09bc-4200-a5cb-3984ead1994c')\"\n",
              "              title=\"Convert this dataframe to an interactive table.\"\n",
              "              style=\"display:none;\">\n",
              "        \n",
              "  <svg xmlns=\"http://www.w3.org/2000/svg\" height=\"24px\"viewBox=\"0 0 24 24\"\n",
              "       width=\"24px\">\n",
              "    <path d=\"M0 0h24v24H0V0z\" fill=\"none\"/>\n",
              "    <path d=\"M18.56 5.44l.94 2.06.94-2.06 2.06-.94-2.06-.94-.94-2.06-.94 2.06-2.06.94zm-11 1L8.5 8.5l.94-2.06 2.06-.94-2.06-.94L8.5 2.5l-.94 2.06-2.06.94zm10 10l.94 2.06.94-2.06 2.06-.94-2.06-.94-.94-2.06-.94 2.06-2.06.94z\"/><path d=\"M17.41 7.96l-1.37-1.37c-.4-.4-.92-.59-1.43-.59-.52 0-1.04.2-1.43.59L10.3 9.45l-7.72 7.72c-.78.78-.78 2.05 0 2.83L4 21.41c.39.39.9.59 1.41.59.51 0 1.02-.2 1.41-.59l7.78-7.78 2.81-2.81c.8-.78.8-2.07 0-2.86zM5.41 20L4 18.59l7.72-7.72 1.47 1.35L5.41 20z\"/>\n",
              "  </svg>\n",
              "      </button>\n",
              "      \n",
              "  <style>\n",
              "    .colab-df-container {\n",
              "      display:flex;\n",
              "      flex-wrap:wrap;\n",
              "      gap: 12px;\n",
              "    }\n",
              "\n",
              "    .colab-df-convert {\n",
              "      background-color: #E8F0FE;\n",
              "      border: none;\n",
              "      border-radius: 50%;\n",
              "      cursor: pointer;\n",
              "      display: none;\n",
              "      fill: #1967D2;\n",
              "      height: 32px;\n",
              "      padding: 0 0 0 0;\n",
              "      width: 32px;\n",
              "    }\n",
              "\n",
              "    .colab-df-convert:hover {\n",
              "      background-color: #E2EBFA;\n",
              "      box-shadow: 0px 1px 2px rgba(60, 64, 67, 0.3), 0px 1px 3px 1px rgba(60, 64, 67, 0.15);\n",
              "      fill: #174EA6;\n",
              "    }\n",
              "\n",
              "    [theme=dark] .colab-df-convert {\n",
              "      background-color: #3B4455;\n",
              "      fill: #D2E3FC;\n",
              "    }\n",
              "\n",
              "    [theme=dark] .colab-df-convert:hover {\n",
              "      background-color: #434B5C;\n",
              "      box-shadow: 0px 1px 3px 1px rgba(0, 0, 0, 0.15);\n",
              "      filter: drop-shadow(0px 1px 2px rgba(0, 0, 0, 0.3));\n",
              "      fill: #FFFFFF;\n",
              "    }\n",
              "  </style>\n",
              "\n",
              "      <script>\n",
              "        const buttonEl =\n",
              "          document.querySelector('#df-8625b17e-09bc-4200-a5cb-3984ead1994c button.colab-df-convert');\n",
              "        buttonEl.style.display =\n",
              "          google.colab.kernel.accessAllowed ? 'block' : 'none';\n",
              "\n",
              "        async function convertToInteractive(key) {\n",
              "          const element = document.querySelector('#df-8625b17e-09bc-4200-a5cb-3984ead1994c');\n",
              "          const dataTable =\n",
              "            await google.colab.kernel.invokeFunction('convertToInteractive',\n",
              "                                                     [key], {});\n",
              "          if (!dataTable) return;\n",
              "\n",
              "          const docLinkHtml = 'Like what you see? Visit the ' +\n",
              "            '<a target=\"_blank\" href=https://colab.research.google.com/notebooks/data_table.ipynb>data table notebook</a>'\n",
              "            + ' to learn more about interactive tables.';\n",
              "          element.innerHTML = '';\n",
              "          dataTable['output_type'] = 'display_data';\n",
              "          await google.colab.output.renderOutput(dataTable, element);\n",
              "          const docLink = document.createElement('div');\n",
              "          docLink.innerHTML = docLinkHtml;\n",
              "          element.appendChild(docLink);\n",
              "        }\n",
              "      </script>\n",
              "    </div>\n",
              "  </div>\n",
              "  "
            ]
          },
          "metadata": {},
          "execution_count": 71
        }
      ]
    },
    {
      "cell_type": "code",
      "source": [
        "# append conv win rate \n",
        "import pandas as pd\n",
        "conv_df = model.corpus.Corpus.get_conversations_dataframe(corpus)\n",
        "conv_df.reset_index(inplace = True)"
      ],
      "metadata": {
        "id": "GH0IMUrj0KfH"
      },
      "execution_count": null,
      "outputs": []
    },
    {
      "cell_type": "code",
      "source": [
        "merged_df = utts.merge(conv_df, left_on='conversation_id', right_on='id')\n",
        "final_df = merged_df[['conversation_id', 'text', 'meta.speaker_type', 'meta.side', 'meta.win_side']]\n"
      ],
      "metadata": {
        "id": "ZSSn81Cm26Bu"
      },
      "execution_count": null,
      "outputs": []
    },
    {
      "cell_type": "code",
      "source": [
        "final_df = final_df.loc[(final_df.loc[:,'meta.win_side'] == 1) | (final_df.loc[:,'meta.win_side'] == 0)]\n",
        "final_df"
      ],
      "metadata": {
        "colab": {
          "base_uri": "https://localhost:8080/",
          "height": 423
        },
        "id": "jJpbT_yU3eBg",
        "outputId": "049d6b55-2e24-43ca-f002-c7030c531a1c"
      },
      "execution_count": null,
      "outputs": [
        {
          "output_type": "execute_result",
          "data": {
            "text/plain": [
              "      conversation_id                                               text  \\\n",
              "0               24929  We'll hear argument next in Case 18-877, Allen...   \n",
              "1               24929  Mr. Chief Justice, and may it please the Court...   \n",
              "2               24929  All -- all that is -- would be highly persuasi...   \n",
              "3               24929  Correct, Justice Ginsburg.\\nBut -- but the Cou...   \n",
              "4               24929                                        In -- in --   \n",
              "...               ...                                                ...   \n",
              "13702           24969  -- has all sorts of meaning that you're not en...   \n",
              "13703           24969                                  No, Your Honor --   \n",
              "13704           24969                                     -- altogether?   \n",
              "13705           24969  -- we are using the principles of complicity a...   \n",
              "13706           24969        Thank you, counsel.\\nThe case is submitted.   \n",
              "\n",
              "      meta.speaker_type meta.side meta.win_side  \n",
              "0                     J      None             0  \n",
              "1                     A         1             0  \n",
              "2                     J      None             0  \n",
              "3                     A         1             0  \n",
              "4                     J      None             0  \n",
              "...                 ...       ...           ...  \n",
              "13702                 J      None             1  \n",
              "13703                 A         1             1  \n",
              "13704                 J      None             1  \n",
              "13705                 A         1             1  \n",
              "13706                 J      None             1  \n",
              "\n",
              "[12979 rows x 5 columns]"
            ],
            "text/html": [
              "\n",
              "  <div id=\"df-6885dd40-a960-4714-9db2-39c549ba5ed4\">\n",
              "    <div class=\"colab-df-container\">\n",
              "      <div>\n",
              "<style scoped>\n",
              "    .dataframe tbody tr th:only-of-type {\n",
              "        vertical-align: middle;\n",
              "    }\n",
              "\n",
              "    .dataframe tbody tr th {\n",
              "        vertical-align: top;\n",
              "    }\n",
              "\n",
              "    .dataframe thead th {\n",
              "        text-align: right;\n",
              "    }\n",
              "</style>\n",
              "<table border=\"1\" class=\"dataframe\">\n",
              "  <thead>\n",
              "    <tr style=\"text-align: right;\">\n",
              "      <th></th>\n",
              "      <th>conversation_id</th>\n",
              "      <th>text</th>\n",
              "      <th>meta.speaker_type</th>\n",
              "      <th>meta.side</th>\n",
              "      <th>meta.win_side</th>\n",
              "    </tr>\n",
              "  </thead>\n",
              "  <tbody>\n",
              "    <tr>\n",
              "      <th>0</th>\n",
              "      <td>24929</td>\n",
              "      <td>We'll hear argument next in Case 18-877, Allen...</td>\n",
              "      <td>J</td>\n",
              "      <td>None</td>\n",
              "      <td>0</td>\n",
              "    </tr>\n",
              "    <tr>\n",
              "      <th>1</th>\n",
              "      <td>24929</td>\n",
              "      <td>Mr. Chief Justice, and may it please the Court...</td>\n",
              "      <td>A</td>\n",
              "      <td>1</td>\n",
              "      <td>0</td>\n",
              "    </tr>\n",
              "    <tr>\n",
              "      <th>2</th>\n",
              "      <td>24929</td>\n",
              "      <td>All -- all that is -- would be highly persuasi...</td>\n",
              "      <td>J</td>\n",
              "      <td>None</td>\n",
              "      <td>0</td>\n",
              "    </tr>\n",
              "    <tr>\n",
              "      <th>3</th>\n",
              "      <td>24929</td>\n",
              "      <td>Correct, Justice Ginsburg.\\nBut -- but the Cou...</td>\n",
              "      <td>A</td>\n",
              "      <td>1</td>\n",
              "      <td>0</td>\n",
              "    </tr>\n",
              "    <tr>\n",
              "      <th>4</th>\n",
              "      <td>24929</td>\n",
              "      <td>In -- in --</td>\n",
              "      <td>J</td>\n",
              "      <td>None</td>\n",
              "      <td>0</td>\n",
              "    </tr>\n",
              "    <tr>\n",
              "      <th>...</th>\n",
              "      <td>...</td>\n",
              "      <td>...</td>\n",
              "      <td>...</td>\n",
              "      <td>...</td>\n",
              "      <td>...</td>\n",
              "    </tr>\n",
              "    <tr>\n",
              "      <th>13702</th>\n",
              "      <td>24969</td>\n",
              "      <td>-- has all sorts of meaning that you're not en...</td>\n",
              "      <td>J</td>\n",
              "      <td>None</td>\n",
              "      <td>1</td>\n",
              "    </tr>\n",
              "    <tr>\n",
              "      <th>13703</th>\n",
              "      <td>24969</td>\n",
              "      <td>No, Your Honor --</td>\n",
              "      <td>A</td>\n",
              "      <td>1</td>\n",
              "      <td>1</td>\n",
              "    </tr>\n",
              "    <tr>\n",
              "      <th>13704</th>\n",
              "      <td>24969</td>\n",
              "      <td>-- altogether?</td>\n",
              "      <td>J</td>\n",
              "      <td>None</td>\n",
              "      <td>1</td>\n",
              "    </tr>\n",
              "    <tr>\n",
              "      <th>13705</th>\n",
              "      <td>24969</td>\n",
              "      <td>-- we are using the principles of complicity a...</td>\n",
              "      <td>A</td>\n",
              "      <td>1</td>\n",
              "      <td>1</td>\n",
              "    </tr>\n",
              "    <tr>\n",
              "      <th>13706</th>\n",
              "      <td>24969</td>\n",
              "      <td>Thank you, counsel.\\nThe case is submitted.</td>\n",
              "      <td>J</td>\n",
              "      <td>None</td>\n",
              "      <td>1</td>\n",
              "    </tr>\n",
              "  </tbody>\n",
              "</table>\n",
              "<p>12979 rows × 5 columns</p>\n",
              "</div>\n",
              "      <button class=\"colab-df-convert\" onclick=\"convertToInteractive('df-6885dd40-a960-4714-9db2-39c549ba5ed4')\"\n",
              "              title=\"Convert this dataframe to an interactive table.\"\n",
              "              style=\"display:none;\">\n",
              "        \n",
              "  <svg xmlns=\"http://www.w3.org/2000/svg\" height=\"24px\"viewBox=\"0 0 24 24\"\n",
              "       width=\"24px\">\n",
              "    <path d=\"M0 0h24v24H0V0z\" fill=\"none\"/>\n",
              "    <path d=\"M18.56 5.44l.94 2.06.94-2.06 2.06-.94-2.06-.94-.94-2.06-.94 2.06-2.06.94zm-11 1L8.5 8.5l.94-2.06 2.06-.94-2.06-.94L8.5 2.5l-.94 2.06-2.06.94zm10 10l.94 2.06.94-2.06 2.06-.94-2.06-.94-.94-2.06-.94 2.06-2.06.94z\"/><path d=\"M17.41 7.96l-1.37-1.37c-.4-.4-.92-.59-1.43-.59-.52 0-1.04.2-1.43.59L10.3 9.45l-7.72 7.72c-.78.78-.78 2.05 0 2.83L4 21.41c.39.39.9.59 1.41.59.51 0 1.02-.2 1.41-.59l7.78-7.78 2.81-2.81c.8-.78.8-2.07 0-2.86zM5.41 20L4 18.59l7.72-7.72 1.47 1.35L5.41 20z\"/>\n",
              "  </svg>\n",
              "      </button>\n",
              "      \n",
              "  <style>\n",
              "    .colab-df-container {\n",
              "      display:flex;\n",
              "      flex-wrap:wrap;\n",
              "      gap: 12px;\n",
              "    }\n",
              "\n",
              "    .colab-df-convert {\n",
              "      background-color: #E8F0FE;\n",
              "      border: none;\n",
              "      border-radius: 50%;\n",
              "      cursor: pointer;\n",
              "      display: none;\n",
              "      fill: #1967D2;\n",
              "      height: 32px;\n",
              "      padding: 0 0 0 0;\n",
              "      width: 32px;\n",
              "    }\n",
              "\n",
              "    .colab-df-convert:hover {\n",
              "      background-color: #E2EBFA;\n",
              "      box-shadow: 0px 1px 2px rgba(60, 64, 67, 0.3), 0px 1px 3px 1px rgba(60, 64, 67, 0.15);\n",
              "      fill: #174EA6;\n",
              "    }\n",
              "\n",
              "    [theme=dark] .colab-df-convert {\n",
              "      background-color: #3B4455;\n",
              "      fill: #D2E3FC;\n",
              "    }\n",
              "\n",
              "    [theme=dark] .colab-df-convert:hover {\n",
              "      background-color: #434B5C;\n",
              "      box-shadow: 0px 1px 3px 1px rgba(0, 0, 0, 0.15);\n",
              "      filter: drop-shadow(0px 1px 2px rgba(0, 0, 0, 0.3));\n",
              "      fill: #FFFFFF;\n",
              "    }\n",
              "  </style>\n",
              "\n",
              "      <script>\n",
              "        const buttonEl =\n",
              "          document.querySelector('#df-6885dd40-a960-4714-9db2-39c549ba5ed4 button.colab-df-convert');\n",
              "        buttonEl.style.display =\n",
              "          google.colab.kernel.accessAllowed ? 'block' : 'none';\n",
              "\n",
              "        async function convertToInteractive(key) {\n",
              "          const element = document.querySelector('#df-6885dd40-a960-4714-9db2-39c549ba5ed4');\n",
              "          const dataTable =\n",
              "            await google.colab.kernel.invokeFunction('convertToInteractive',\n",
              "                                                     [key], {});\n",
              "          if (!dataTable) return;\n",
              "\n",
              "          const docLinkHtml = 'Like what you see? Visit the ' +\n",
              "            '<a target=\"_blank\" href=https://colab.research.google.com/notebooks/data_table.ipynb>data table notebook</a>'\n",
              "            + ' to learn more about interactive tables.';\n",
              "          element.innerHTML = '';\n",
              "          dataTable['output_type'] = 'display_data';\n",
              "          await google.colab.output.renderOutput(dataTable, element);\n",
              "          const docLink = document.createElement('div');\n",
              "          docLink.innerHTML = docLinkHtml;\n",
              "          element.appendChild(docLink);\n",
              "        }\n",
              "      </script>\n",
              "    </div>\n",
              "  </div>\n",
              "  "
            ]
          },
          "metadata": {},
          "execution_count": 112
        }
      ]
    },
    {
      "cell_type": "code",
      "source": [
        "from sklearn.feature_extraction.text import CountVectorizer"
      ],
      "metadata": {
        "id": "r-k57Yvvu0xT"
      },
      "execution_count": null,
      "outputs": []
    },
    {
      "cell_type": "code",
      "source": [
        "lst = final_df['text'].tolist()\n",
        "len(lst)"
      ],
      "metadata": {
        "colab": {
          "base_uri": "https://localhost:8080/"
        },
        "id": "RJkJS6ZTv5YP",
        "outputId": "6a997261-8a44-4698-f25b-ad4665233fc3"
      },
      "execution_count": null,
      "outputs": [
        {
          "output_type": "execute_result",
          "data": {
            "text/plain": [
              "12979"
            ]
          },
          "metadata": {},
          "execution_count": 132
        }
      ]
    },
    {
      "cell_type": "code",
      "source": [
        "vectorizer = CountVectorizer() # Convert a collection of text documents to a matrix of token counts.\n",
        "X = vectorizer.fit_transform(lst)\n",
        "feature_names = vectorizer.get_feature_names_out() # number of unigrams: 12869\n",
        "X.toarray().shape # check"
      ],
      "metadata": {
        "colab": {
          "base_uri": "https://localhost:8080/"
        },
        "id": "fY9JC7U0vLxF",
        "outputId": "61549b43-8b19-48ec-c4a1-2ce9bbeae421"
      },
      "execution_count": null,
      "outputs": [
        {
          "output_type": "execute_result",
          "data": {
            "text/plain": [
              "(12979, 12630)"
            ]
          },
          "metadata": {},
          "execution_count": 133
        }
      ]
    },
    {
      "cell_type": "code",
      "source": [
        "feature_names[-30:]"
      ],
      "metadata": {
        "colab": {
          "base_uri": "https://localhost:8080/"
        },
        "id": "CYQS46NIGrVc",
        "outputId": "8f0c7f31-ce53-49a1-cf4f-2bc5b41a2af1"
      },
      "execution_count": null,
      "outputs": [
        {
          "output_type": "execute_result",
          "data": {
            "text/plain": [
              "array(['yes', 'yeshiva', 'yesterday', 'yet', 'yield', 'yielded', 'york',\n",
              "       'yorktown', 'yosemite', 'you', 'young', 'younger', 'your', 'yours',\n",
              "       'yourself', 'youth', 'yow', 'yulee', 'zarda', 'zealand', 'zelman',\n",
              "       'zenith', 'zero', 'zeroing', 'zillions', 'zipper', 'zones',\n",
              "       'zoning', 'zooming', 'zubik'], dtype=object)"
            ]
          },
          "metadata": {},
          "execution_count": 131
        }
      ]
    },
    {
      "cell_type": "code",
      "source": [
        "input_matrix = pd.DataFrame.sparse.from_spmatrix(X)"
      ],
      "metadata": {
        "id": "Cy1KP-isGIhO"
      },
      "execution_count": null,
      "outputs": []
    },
    {
      "cell_type": "code",
      "source": [
        "from sklearn.linear_model import LogisticRegression\n",
        "# import sklearn.linear_model as skl_lm\n",
        "from sklearn.metrics import confusion_matrix, classification_report, precision_score, recall_score, ConfusionMatrixDisplay\n",
        "from sklearn import preprocessing\n",
        "from sklearn.model_selection import train_test_split\n"
      ],
      "metadata": {
        "id": "S2_6Atq7z7x8"
      },
      "execution_count": null,
      "outputs": []
    },
    {
      "cell_type": "code",
      "source": [
        "# logistic regression\n",
        "X_train, X_test, y_train, y_test = train_test_split(input_matrix, final_df['meta.win_side'], test_size = 0.2, random_state = 42)\n",
        "\n",
        "# estimator\n",
        "clf = LogisticRegression(random_state=42).fit(X_train, y_train.astype('int'))\n",
        "\n",
        "# predict\n",
        "preds = clf.predict(X_test)\n"
      ],
      "metadata": {
        "colab": {
          "base_uri": "https://localhost:8080/"
        },
        "id": "XdBFXp_QHusV",
        "outputId": "64d68827-9735-45f9-c1d2-3cf4293305b0"
      },
      "execution_count": null,
      "outputs": [
        {
          "output_type": "stream",
          "name": "stderr",
          "text": [
            "/usr/local/lib/python3.9/dist-packages/sklearn/linear_model/_logistic.py:444: ConvergenceWarning: lbfgs failed to converge (status=1):\n",
            "STOP: TOTAL NO. of ITERATIONS REACHED LIMIT.\n",
            "\n",
            "Increase the number of iterations (max_iter) or scale the data as shown in:\n",
            "    https://scikit-learn.org/stable/modules/preprocessing.html\n",
            "Please also refer to the documentation for alternative solver options:\n",
            "    https://scikit-learn.org/stable/modules/linear_model.html#logistic-regression\n",
            "  n_iter_i = _check_optimize_result(\n"
          ]
        }
      ]
    },
    {
      "cell_type": "code",
      "source": [
        "# accuracy \n",
        "sum(preds == y_test.astype('int'))/len(preds)\n"
      ],
      "metadata": {
        "colab": {
          "base_uri": "https://localhost:8080/"
        },
        "id": "i2Xu3-kDHybw",
        "outputId": "e98307e3-40ae-4ef1-994a-4cc1403d70ab"
      },
      "execution_count": null,
      "outputs": [
        {
          "output_type": "execute_result",
          "data": {
            "text/plain": [
              "0.7565485362095532"
            ]
          },
          "metadata": {},
          "execution_count": 145
        }
      ]
    },
    {
      "cell_type": "code",
      "source": [
        "(preds == y_test.astype('int')).mean()"
      ],
      "metadata": {
        "colab": {
          "base_uri": "https://localhost:8080/"
        },
        "id": "9Dt5VqCzIcG0",
        "outputId": "18b5cce1-ad42-4045-9be1-ac90d0c24489"
      },
      "execution_count": null,
      "outputs": [
        {
          "output_type": "execute_result",
          "data": {
            "text/plain": [
              "0.7565485362095532"
            ]
          },
          "metadata": {},
          "execution_count": 147
        }
      ]
    },
    {
      "cell_type": "code",
      "source": [
        "# Grid Seach CV\n",
        "# Randomizer CV \n",
        "# for regularization (lambda) C, solvers, \n",
        "\n"
      ],
      "metadata": {
        "id": "VVveNSxQJdfh"
      },
      "execution_count": null,
      "outputs": []
    },
    {
      "cell_type": "code",
      "source": [
        "# tags \n",
        "# regularization \n",
        "# Models to try\n",
        "#   SVM\n",
        "#   random forest (can pick up top k important features. we can see which words are important)\n",
        "#   use bigrams instead and repeat the models "
      ],
      "metadata": {
        "id": "mVq2eI6JIjPo"
      },
      "execution_count": null,
      "outputs": []
    },
    {
      "cell_type": "markdown",
      "source": [],
      "metadata": {
        "id": "xRrwIPzgvsrm"
      }
    },
    {
      "cell_type": "markdown",
      "source": [
        "WORK IN PROGRESS :) "
      ],
      "metadata": {
        "id": "hiJATXU59gqU"
      }
    },
    {
      "cell_type": "code",
      "source": [
        "from convokit import BoWTransformer\n",
        "bow_transformer = BoWTransformer(obj_type=\"utterance\", vector_name=\"bow\")\n",
        "bow_transformer.fit_transform(corpus)\n",
        "df = utt.get_vector(\"bow\", as_dataframe=True)"
      ],
      "metadata": {
        "colab": {
          "base_uri": "https://localhost:8080/",
          "height": 201
        },
        "id": "ptoQAc03qKNA",
        "outputId": "e53af489-05d6-47d2-e4e9-682746a25afb"
      },
      "execution_count": null,
      "outputs": [
        {
          "output_type": "stream",
          "name": "stdout",
          "text": [
            "Initializing default unigram CountVectorizer...Done.\n",
            "\u001b[91mWARNING: \u001b[0mVector matrix \"bow\" already exists. Overwriting it with newly set vector matrix.\n"
          ]
        },
        {
          "output_type": "stream",
          "name": "stderr",
          "text": [
            "/usr/local/lib/python3.9/dist-packages/sklearn/utils/deprecation.py:87: FutureWarning: Function get_feature_names is deprecated; get_feature_names is deprecated in 1.0 and will be removed in 1.2. Please use get_feature_names_out instead.\n",
            "  warnings.warn(msg, category=FutureWarning)\n"
          ]
        },
        {
          "output_type": "execute_result",
          "data": {
            "text/plain": [
              "              000  10  100  1083  11  1182  12  122  1227  1246  ...  yes  \\\n",
              "24952__1_012    0   0    0     0   0     0   0    0     0     0  ...    0   \n",
              "\n",
              "              yet  york  you  your  yours  yourself  youth  zero  zipper  \n",
              "24952__1_012    0     0    0     0      0         0      0     0       0  \n",
              "\n",
              "[1 rows x 3360 columns]"
            ],
            "text/html": [
              "\n",
              "  <div id=\"df-d7e1a93b-343d-4ec3-9722-fb594e506b85\">\n",
              "    <div class=\"colab-df-container\">\n",
              "      <div>\n",
              "<style scoped>\n",
              "    .dataframe tbody tr th:only-of-type {\n",
              "        vertical-align: middle;\n",
              "    }\n",
              "\n",
              "    .dataframe tbody tr th {\n",
              "        vertical-align: top;\n",
              "    }\n",
              "\n",
              "    .dataframe thead th {\n",
              "        text-align: right;\n",
              "    }\n",
              "</style>\n",
              "<table border=\"1\" class=\"dataframe\">\n",
              "  <thead>\n",
              "    <tr style=\"text-align: right;\">\n",
              "      <th></th>\n",
              "      <th>000</th>\n",
              "      <th>10</th>\n",
              "      <th>100</th>\n",
              "      <th>1083</th>\n",
              "      <th>11</th>\n",
              "      <th>1182</th>\n",
              "      <th>12</th>\n",
              "      <th>122</th>\n",
              "      <th>1227</th>\n",
              "      <th>1246</th>\n",
              "      <th>...</th>\n",
              "      <th>yes</th>\n",
              "      <th>yet</th>\n",
              "      <th>york</th>\n",
              "      <th>you</th>\n",
              "      <th>your</th>\n",
              "      <th>yours</th>\n",
              "      <th>yourself</th>\n",
              "      <th>youth</th>\n",
              "      <th>zero</th>\n",
              "      <th>zipper</th>\n",
              "    </tr>\n",
              "  </thead>\n",
              "  <tbody>\n",
              "    <tr>\n",
              "      <th>24952__1_012</th>\n",
              "      <td>0</td>\n",
              "      <td>0</td>\n",
              "      <td>0</td>\n",
              "      <td>0</td>\n",
              "      <td>0</td>\n",
              "      <td>0</td>\n",
              "      <td>0</td>\n",
              "      <td>0</td>\n",
              "      <td>0</td>\n",
              "      <td>0</td>\n",
              "      <td>...</td>\n",
              "      <td>0</td>\n",
              "      <td>0</td>\n",
              "      <td>0</td>\n",
              "      <td>0</td>\n",
              "      <td>0</td>\n",
              "      <td>0</td>\n",
              "      <td>0</td>\n",
              "      <td>0</td>\n",
              "      <td>0</td>\n",
              "      <td>0</td>\n",
              "    </tr>\n",
              "  </tbody>\n",
              "</table>\n",
              "<p>1 rows × 3360 columns</p>\n",
              "</div>\n",
              "      <button class=\"colab-df-convert\" onclick=\"convertToInteractive('df-d7e1a93b-343d-4ec3-9722-fb594e506b85')\"\n",
              "              title=\"Convert this dataframe to an interactive table.\"\n",
              "              style=\"display:none;\">\n",
              "        \n",
              "  <svg xmlns=\"http://www.w3.org/2000/svg\" height=\"24px\"viewBox=\"0 0 24 24\"\n",
              "       width=\"24px\">\n",
              "    <path d=\"M0 0h24v24H0V0z\" fill=\"none\"/>\n",
              "    <path d=\"M18.56 5.44l.94 2.06.94-2.06 2.06-.94-2.06-.94-.94-2.06-.94 2.06-2.06.94zm-11 1L8.5 8.5l.94-2.06 2.06-.94-2.06-.94L8.5 2.5l-.94 2.06-2.06.94zm10 10l.94 2.06.94-2.06 2.06-.94-2.06-.94-.94-2.06-.94 2.06-2.06.94z\"/><path d=\"M17.41 7.96l-1.37-1.37c-.4-.4-.92-.59-1.43-.59-.52 0-1.04.2-1.43.59L10.3 9.45l-7.72 7.72c-.78.78-.78 2.05 0 2.83L4 21.41c.39.39.9.59 1.41.59.51 0 1.02-.2 1.41-.59l7.78-7.78 2.81-2.81c.8-.78.8-2.07 0-2.86zM5.41 20L4 18.59l7.72-7.72 1.47 1.35L5.41 20z\"/>\n",
              "  </svg>\n",
              "      </button>\n",
              "      \n",
              "  <style>\n",
              "    .colab-df-container {\n",
              "      display:flex;\n",
              "      flex-wrap:wrap;\n",
              "      gap: 12px;\n",
              "    }\n",
              "\n",
              "    .colab-df-convert {\n",
              "      background-color: #E8F0FE;\n",
              "      border: none;\n",
              "      border-radius: 50%;\n",
              "      cursor: pointer;\n",
              "      display: none;\n",
              "      fill: #1967D2;\n",
              "      height: 32px;\n",
              "      padding: 0 0 0 0;\n",
              "      width: 32px;\n",
              "    }\n",
              "\n",
              "    .colab-df-convert:hover {\n",
              "      background-color: #E2EBFA;\n",
              "      box-shadow: 0px 1px 2px rgba(60, 64, 67, 0.3), 0px 1px 3px 1px rgba(60, 64, 67, 0.15);\n",
              "      fill: #174EA6;\n",
              "    }\n",
              "\n",
              "    [theme=dark] .colab-df-convert {\n",
              "      background-color: #3B4455;\n",
              "      fill: #D2E3FC;\n",
              "    }\n",
              "\n",
              "    [theme=dark] .colab-df-convert:hover {\n",
              "      background-color: #434B5C;\n",
              "      box-shadow: 0px 1px 3px 1px rgba(0, 0, 0, 0.15);\n",
              "      filter: drop-shadow(0px 1px 2px rgba(0, 0, 0, 0.3));\n",
              "      fill: #FFFFFF;\n",
              "    }\n",
              "  </style>\n",
              "\n",
              "      <script>\n",
              "        const buttonEl =\n",
              "          document.querySelector('#df-d7e1a93b-343d-4ec3-9722-fb594e506b85 button.colab-df-convert');\n",
              "        buttonEl.style.display =\n",
              "          google.colab.kernel.accessAllowed ? 'block' : 'none';\n",
              "\n",
              "        async function convertToInteractive(key) {\n",
              "          const element = document.querySelector('#df-d7e1a93b-343d-4ec3-9722-fb594e506b85');\n",
              "          const dataTable =\n",
              "            await google.colab.kernel.invokeFunction('convertToInteractive',\n",
              "                                                     [key], {});\n",
              "          if (!dataTable) return;\n",
              "\n",
              "          const docLinkHtml = 'Like what you see? Visit the ' +\n",
              "            '<a target=\"_blank\" href=https://colab.research.google.com/notebooks/data_table.ipynb>data table notebook</a>'\n",
              "            + ' to learn more about interactive tables.';\n",
              "          element.innerHTML = '';\n",
              "          dataTable['output_type'] = 'display_data';\n",
              "          await google.colab.output.renderOutput(dataTable, element);\n",
              "          const docLink = document.createElement('div');\n",
              "          docLink.innerHTML = docLinkHtml;\n",
              "          element.appendChild(docLink);\n",
              "        }\n",
              "      </script>\n",
              "    </div>\n",
              "  </div>\n",
              "  "
            ]
          },
          "metadata": {},
          "execution_count": 32
        }
      ]
    },
    {
      "cell_type": "code",
      "source": [
        "df.columns[0:10]"
      ],
      "metadata": {
        "colab": {
          "base_uri": "https://localhost:8080/"
        },
        "id": "UdyaSyqNy9pm",
        "outputId": "b19e3fbb-ad39-4f42-833f-e2b03ea6cc43"
      },
      "execution_count": null,
      "outputs": [
        {
          "output_type": "execute_result",
          "data": {
            "text/plain": [
              "Index(['000', '10', '100', '1083', '11', '1182', '12', '122', '1227', '1246'], dtype='object')"
            ]
          },
          "metadata": {},
          "execution_count": 64
        }
      ]
    },
    {
      "cell_type": "markdown",
      "source": [
        "* Utterances have text\n",
        "* Conversations have win result\n",
        "* tie the two together with conversation ID \n",
        "**bold text**\n",
        "\n",
        "https://github.com/CornellNLP/ConvoKit/blob/master/examples/vectors/vector_demo.ipynb\n",
        "\n",
        "https://convokit.cornell.edu/documentation/tutorial.html"
      ],
      "metadata": {
        "id": "PuWaW1jVl6PT"
      }
    },
    {
      "cell_type": "code",
      "source": [
        "# type: justice J, advocate A or unknown U \n",
        "utt.meta"
      ],
      "metadata": {
        "colab": {
          "base_uri": "https://localhost:8080/"
        },
        "id": "dJYgQPYBovNi",
        "outputId": "10b55117-9da2-42cc-b387-61e71adad308"
      },
      "execution_count": null,
      "outputs": [
        {
          "output_type": "execute_result",
          "data": {
            "text/plain": [
              "{'case_id': '2019_18-217',\n",
              " 'start_times': [2399.6],\n",
              " 'stop_times': [2400.2],\n",
              " 'speaker_type': 'J',\n",
              " 'side': None,\n",
              " 'timestamp': 2399.6}"
            ]
          },
          "metadata": {},
          "execution_count": 5
        }
      ]
    },
    {
      "cell_type": "markdown",
      "source": [],
      "metadata": {
        "id": "wHQsOkb39fpI"
      }
    },
    {
      "cell_type": "code",
      "source": [
        "convo = corpus.random_conversation()\n",
        "convo.meta"
      ],
      "metadata": {
        "colab": {
          "base_uri": "https://localhost:8080/"
        },
        "id": "OsbMNYXcoysr",
        "outputId": "4936b3a0-2812-446f-f9ff-c6e1f8bd929c"
      },
      "execution_count": null,
      "outputs": [
        {
          "output_type": "execute_result",
          "data": {
            "text/plain": [
              "{'case_id': '2019_18-1432',\n",
              " 'advocates': {'paul_w_hughes': {'side': 1, 'role': 'for the Petitioner'},\n",
              "  'matthew_guarnieri': {'side': 0, 'role': 'for the Respondent'}},\n",
              " 'win_side': 1,\n",
              " 'votes_side': {'j__john_g_roberts_jr': 1,\n",
              "  'j__clarence_thomas': 0,\n",
              "  'j__ruth_bader_ginsburg': 1,\n",
              "  'j__stephen_g_breyer': 1,\n",
              "  'j__samuel_a_alito_jr': 0,\n",
              "  'j__sonia_sotomayor': 1,\n",
              "  'j__elena_kagan': 1,\n",
              "  'j__neil_gorsuch': 1,\n",
              "  'j__brett_m_kavanaugh': 1}}"
            ]
          },
          "metadata": {},
          "execution_count": 6
        }
      ]
    },
    {
      "cell_type": "code",
      "source": [
        "# We use Switchboard's speakers as they have more interesting metadata\n",
        "speaker = corpus.random_speaker()\n",
        "print(speaker)\n",
        "print()\n",
        "speaker.meta"
      ],
      "metadata": {
        "colab": {
          "base_uri": "https://localhost:8080/"
        },
        "id": "SV6wmrcbpPce",
        "outputId": "31a80511-1fde-4284-d1eb-e7f5e4e933e4"
      },
      "execution_count": null,
      "outputs": [
        {
          "output_type": "stream",
          "name": "stdout",
          "text": [
            "Speaker(id: elbert_lin, vectors: [], meta: {'name': 'Elbert Lin', 'type': 'A'})\n",
            "\n"
          ]
        },
        {
          "output_type": "execute_result",
          "data": {
            "text/plain": [
              "{'name': 'Elbert Lin', 'type': 'A'}"
            ]
          },
          "metadata": {},
          "execution_count": 7
        }
      ]
    },
    {
      "cell_type": "code",
      "source": [],
      "metadata": {
        "id": "7x-he5qbpXfm"
      },
      "execution_count": null,
      "outputs": []
    },
    {
      "cell_type": "markdown",
      "source": [
        "Trying bag of word transformer|"
      ],
      "metadata": {
        "id": "ikKqdq30kdxo"
      }
    },
    {
      "cell_type": "code",
      "source": [
        "# The utterance does not have any vectors associated with it\n",
        "utt.vectors"
      ],
      "metadata": {
        "colab": {
          "base_uri": "https://localhost:8080/"
        },
        "id": "J4yLgv0xqPLF",
        "outputId": "17cd4281-af78-4960-c4ae-3db77a3c7931"
      },
      "execution_count": null,
      "outputs": [
        {
          "output_type": "execute_result",
          "data": {
            "text/plain": [
              "[]"
            ]
          },
          "metadata": {},
          "execution_count": 8
        }
      ]
    },
    {
      "cell_type": "code",
      "source": [
        "# The corpus does not have any vectors associated with it\n",
        "corpus.vectors"
      ],
      "metadata": {
        "colab": {
          "base_uri": "https://localhost:8080/"
        },
        "id": "-YFo41Z_qPYA",
        "outputId": "c7d72ee9-4d20-4ca1-c2f8-944cdc3c2857"
      },
      "execution_count": null,
      "outputs": [
        {
          "output_type": "execute_result",
          "data": {
            "text/plain": [
              "{'bow'}"
            ]
          },
          "metadata": {},
          "execution_count": 9
        }
      ]
    },
    {
      "cell_type": "code",
      "source": [
        "from sklearn.feature_extraction import DictVectorizer\n",
        "v = DictVectorizer(sparse=False)"
      ],
      "metadata": {
        "id": "U7pc-sJfyCOi"
      },
      "execution_count": null,
      "outputs": []
    },
    {
      "cell_type": "code",
      "source": [
        "from convokit import Corpus, download\n",
        "corpus = Corpus(filename=download(\"supreme-2019\"))\n",
        "utt = corpus.random_utterance()\n",
        "bow_transformer = BoWTransformer(obj_type=\"utterance\", vector_name=\"bow\")\n",
        "bow_transformer.fit_transform(corpus)\n",
        "utt.get_vector(\"bow\")\n",
        "#utt.get_vector(\"bow\", as_dataframe=True)\n"
      ],
      "metadata": {
        "colab": {
          "base_uri": "https://localhost:8080/"
        },
        "id": "TMTs5jASqSzT",
        "outputId": "cb7c14cd-13ae-4ff4-e552-61d70c022c60"
      },
      "execution_count": null,
      "outputs": [
        {
          "output_type": "stream",
          "name": "stdout",
          "text": [
            "Dataset already exists at /root/.convokit/downloads/supreme-2019\n",
            "Initializing default unigram CountVectorizer...Done.\n"
          ]
        },
        {
          "output_type": "execute_result",
          "data": {
            "text/plain": [
              "<1x3360 sparse matrix of type '<class 'numpy.int64'>'\n",
              "\twith 13 stored elements in Compressed Sparse Row format>"
            ]
          },
          "metadata": {},
          "execution_count": 11
        }
      ]
    },
    {
      "cell_type": "code",
      "source": [
        "utt.get_vector(\"bow\")"
      ],
      "metadata": {
        "colab": {
          "base_uri": "https://localhost:8080/"
        },
        "id": "FWMp-qRr1JB-",
        "outputId": "168e9f07-57ee-4981-d0e2-be57a1697170"
      },
      "execution_count": null,
      "outputs": [
        {
          "output_type": "execute_result",
          "data": {
            "text/plain": [
              "<1x3360 sparse matrix of type '<class 'numpy.int64'>'\n",
              "\twith 5 stored elements in Compressed Sparse Row format>"
            ]
          },
          "metadata": {},
          "execution_count": 31
        }
      ]
    },
    {
      "cell_type": "code",
      "source": [
        "# We can get a more interpretable display of the vector as a dataframe\n",
        "df = utt.get_vector(\"bow\", as_dataframe=True)\n",
        "df"
      ],
      "metadata": {
        "colab": {
          "base_uri": "https://localhost:8080/",
          "height": 110
        },
        "id": "W_qtNQctqj24",
        "outputId": "ffad849b-a0fb-4a31-a40f-e164e11b6066"
      },
      "execution_count": null,
      "outputs": [
        {
          "output_type": "execute_result",
          "data": {
            "text/plain": [
              "              0     1     2     3     4     5     6     7     8     9     ...  \\\n",
              "25004__0_021     0     0     0     0     0     0     0     0     0     0  ...   \n",
              "\n",
              "              3350  3351  3352  3353  3354  3355  3356  3357  3358  3359  \n",
              "25004__0_021     0     0     0     1     0     0     0     0     0     0  \n",
              "\n",
              "[1 rows x 3360 columns]"
            ],
            "text/html": [
              "\n",
              "  <div id=\"df-e9fc8ac3-4c2e-4f04-9056-a1aff19e02ce\">\n",
              "    <div class=\"colab-df-container\">\n",
              "      <div>\n",
              "<style scoped>\n",
              "    .dataframe tbody tr th:only-of-type {\n",
              "        vertical-align: middle;\n",
              "    }\n",
              "\n",
              "    .dataframe tbody tr th {\n",
              "        vertical-align: top;\n",
              "    }\n",
              "\n",
              "    .dataframe thead th {\n",
              "        text-align: right;\n",
              "    }\n",
              "</style>\n",
              "<table border=\"1\" class=\"dataframe\">\n",
              "  <thead>\n",
              "    <tr style=\"text-align: right;\">\n",
              "      <th></th>\n",
              "      <th>0</th>\n",
              "      <th>1</th>\n",
              "      <th>2</th>\n",
              "      <th>3</th>\n",
              "      <th>4</th>\n",
              "      <th>5</th>\n",
              "      <th>6</th>\n",
              "      <th>7</th>\n",
              "      <th>8</th>\n",
              "      <th>9</th>\n",
              "      <th>...</th>\n",
              "      <th>3350</th>\n",
              "      <th>3351</th>\n",
              "      <th>3352</th>\n",
              "      <th>3353</th>\n",
              "      <th>3354</th>\n",
              "      <th>3355</th>\n",
              "      <th>3356</th>\n",
              "      <th>3357</th>\n",
              "      <th>3358</th>\n",
              "      <th>3359</th>\n",
              "    </tr>\n",
              "  </thead>\n",
              "  <tbody>\n",
              "    <tr>\n",
              "      <th>25004__0_021</th>\n",
              "      <td>0</td>\n",
              "      <td>0</td>\n",
              "      <td>0</td>\n",
              "      <td>0</td>\n",
              "      <td>0</td>\n",
              "      <td>0</td>\n",
              "      <td>0</td>\n",
              "      <td>0</td>\n",
              "      <td>0</td>\n",
              "      <td>0</td>\n",
              "      <td>...</td>\n",
              "      <td>0</td>\n",
              "      <td>0</td>\n",
              "      <td>0</td>\n",
              "      <td>1</td>\n",
              "      <td>0</td>\n",
              "      <td>0</td>\n",
              "      <td>0</td>\n",
              "      <td>0</td>\n",
              "      <td>0</td>\n",
              "      <td>0</td>\n",
              "    </tr>\n",
              "  </tbody>\n",
              "</table>\n",
              "<p>1 rows × 3360 columns</p>\n",
              "</div>\n",
              "      <button class=\"colab-df-convert\" onclick=\"convertToInteractive('df-e9fc8ac3-4c2e-4f04-9056-a1aff19e02ce')\"\n",
              "              title=\"Convert this dataframe to an interactive table.\"\n",
              "              style=\"display:none;\">\n",
              "        \n",
              "  <svg xmlns=\"http://www.w3.org/2000/svg\" height=\"24px\"viewBox=\"0 0 24 24\"\n",
              "       width=\"24px\">\n",
              "    <path d=\"M0 0h24v24H0V0z\" fill=\"none\"/>\n",
              "    <path d=\"M18.56 5.44l.94 2.06.94-2.06 2.06-.94-2.06-.94-.94-2.06-.94 2.06-2.06.94zm-11 1L8.5 8.5l.94-2.06 2.06-.94-2.06-.94L8.5 2.5l-.94 2.06-2.06.94zm10 10l.94 2.06.94-2.06 2.06-.94-2.06-.94-.94-2.06-.94 2.06-2.06.94z\"/><path d=\"M17.41 7.96l-1.37-1.37c-.4-.4-.92-.59-1.43-.59-.52 0-1.04.2-1.43.59L10.3 9.45l-7.72 7.72c-.78.78-.78 2.05 0 2.83L4 21.41c.39.39.9.59 1.41.59.51 0 1.02-.2 1.41-.59l7.78-7.78 2.81-2.81c.8-.78.8-2.07 0-2.86zM5.41 20L4 18.59l7.72-7.72 1.47 1.35L5.41 20z\"/>\n",
              "  </svg>\n",
              "      </button>\n",
              "      \n",
              "  <style>\n",
              "    .colab-df-container {\n",
              "      display:flex;\n",
              "      flex-wrap:wrap;\n",
              "      gap: 12px;\n",
              "    }\n",
              "\n",
              "    .colab-df-convert {\n",
              "      background-color: #E8F0FE;\n",
              "      border: none;\n",
              "      border-radius: 50%;\n",
              "      cursor: pointer;\n",
              "      display: none;\n",
              "      fill: #1967D2;\n",
              "      height: 32px;\n",
              "      padding: 0 0 0 0;\n",
              "      width: 32px;\n",
              "    }\n",
              "\n",
              "    .colab-df-convert:hover {\n",
              "      background-color: #E2EBFA;\n",
              "      box-shadow: 0px 1px 2px rgba(60, 64, 67, 0.3), 0px 1px 3px 1px rgba(60, 64, 67, 0.15);\n",
              "      fill: #174EA6;\n",
              "    }\n",
              "\n",
              "    [theme=dark] .colab-df-convert {\n",
              "      background-color: #3B4455;\n",
              "      fill: #D2E3FC;\n",
              "    }\n",
              "\n",
              "    [theme=dark] .colab-df-convert:hover {\n",
              "      background-color: #434B5C;\n",
              "      box-shadow: 0px 1px 3px 1px rgba(0, 0, 0, 0.15);\n",
              "      filter: drop-shadow(0px 1px 2px rgba(0, 0, 0, 0.3));\n",
              "      fill: #FFFFFF;\n",
              "    }\n",
              "  </style>\n",
              "\n",
              "      <script>\n",
              "        const buttonEl =\n",
              "          document.querySelector('#df-e9fc8ac3-4c2e-4f04-9056-a1aff19e02ce button.colab-df-convert');\n",
              "        buttonEl.style.display =\n",
              "          google.colab.kernel.accessAllowed ? 'block' : 'none';\n",
              "\n",
              "        async function convertToInteractive(key) {\n",
              "          const element = document.querySelector('#df-e9fc8ac3-4c2e-4f04-9056-a1aff19e02ce');\n",
              "          const dataTable =\n",
              "            await google.colab.kernel.invokeFunction('convertToInteractive',\n",
              "                                                     [key], {});\n",
              "          if (!dataTable) return;\n",
              "\n",
              "          const docLinkHtml = 'Like what you see? Visit the ' +\n",
              "            '<a target=\"_blank\" href=https://colab.research.google.com/notebooks/data_table.ipynb>data table notebook</a>'\n",
              "            + ' to learn more about interactive tables.';\n",
              "          element.innerHTML = '';\n",
              "          dataTable['output_type'] = 'display_data';\n",
              "          await google.colab.output.renderOutput(dataTable, element);\n",
              "          const docLink = document.createElement('div');\n",
              "          docLink.innerHTML = docLinkHtml;\n",
              "          element.appendChild(docLink);\n",
              "        }\n",
              "      </script>\n",
              "    </div>\n",
              "  </div>\n",
              "  "
            ]
          },
          "metadata": {},
          "execution_count": 29
        }
      ]
    },
    {
      "cell_type": "code",
      "source": [
        "df.columns"
      ],
      "metadata": {
        "id": "dERWHhVNqrGD"
      },
      "execution_count": null,
      "outputs": []
    },
    {
      "cell_type": "code",
      "source": [
        "bow_matrix=corpus.get_vector_matrix(\"bow\")\n",
        "bow_matrix.to_dataframe().head()"
      ],
      "metadata": {
        "colab": {
          "base_uri": "https://localhost:8080/",
          "height": 235
        },
        "id": "eTKK3N5zrqrY",
        "outputId": "26346a5c-b76b-444d-b618-824c63dbedda"
      },
      "execution_count": null,
      "outputs": [
        {
          "output_type": "execute_result",
          "data": {
            "text/plain": [
              "              0     1     2     3     4     5     6     7     8     9     ...  \\\n",
              "24929__0_000     0     0     0     0     0     0     0     0     0     0  ...   \n",
              "24929__0_001     0     0     0     0     0     0     0     0     0     0  ...   \n",
              "24929__0_002     0     0     0     0     0     0     0     0     0     0  ...   \n",
              "24929__0_003     0     0     0     0     0     0     0     0     0     0  ...   \n",
              "24929__0_004     0     0     0     0     0     0     0     0     0     0  ...   \n",
              "\n",
              "              3350  3351  3352  3353  3354  3355  3356  3357  3358  3359  \n",
              "24929__0_000     0     0     0     0     0     0     0     0     0     0  \n",
              "24929__0_001     0     0     0     0     2     0     0     0     0     0  \n",
              "24929__0_002     0     0     0     0     0     0     0     0     0     0  \n",
              "24929__0_003     0     0     0     0     0     0     0     0     0     0  \n",
              "24929__0_004     0     0     0     0     0     0     0     0     0     0  \n",
              "\n",
              "[5 rows x 3360 columns]"
            ],
            "text/html": [
              "\n",
              "  <div id=\"df-055cec0b-f331-49da-a65e-04372e653bec\">\n",
              "    <div class=\"colab-df-container\">\n",
              "      <div>\n",
              "<style scoped>\n",
              "    .dataframe tbody tr th:only-of-type {\n",
              "        vertical-align: middle;\n",
              "    }\n",
              "\n",
              "    .dataframe tbody tr th {\n",
              "        vertical-align: top;\n",
              "    }\n",
              "\n",
              "    .dataframe thead th {\n",
              "        text-align: right;\n",
              "    }\n",
              "</style>\n",
              "<table border=\"1\" class=\"dataframe\">\n",
              "  <thead>\n",
              "    <tr style=\"text-align: right;\">\n",
              "      <th></th>\n",
              "      <th>0</th>\n",
              "      <th>1</th>\n",
              "      <th>2</th>\n",
              "      <th>3</th>\n",
              "      <th>4</th>\n",
              "      <th>5</th>\n",
              "      <th>6</th>\n",
              "      <th>7</th>\n",
              "      <th>8</th>\n",
              "      <th>9</th>\n",
              "      <th>...</th>\n",
              "      <th>3350</th>\n",
              "      <th>3351</th>\n",
              "      <th>3352</th>\n",
              "      <th>3353</th>\n",
              "      <th>3354</th>\n",
              "      <th>3355</th>\n",
              "      <th>3356</th>\n",
              "      <th>3357</th>\n",
              "      <th>3358</th>\n",
              "      <th>3359</th>\n",
              "    </tr>\n",
              "  </thead>\n",
              "  <tbody>\n",
              "    <tr>\n",
              "      <th>24929__0_000</th>\n",
              "      <td>0</td>\n",
              "      <td>0</td>\n",
              "      <td>0</td>\n",
              "      <td>0</td>\n",
              "      <td>0</td>\n",
              "      <td>0</td>\n",
              "      <td>0</td>\n",
              "      <td>0</td>\n",
              "      <td>0</td>\n",
              "      <td>0</td>\n",
              "      <td>...</td>\n",
              "      <td>0</td>\n",
              "      <td>0</td>\n",
              "      <td>0</td>\n",
              "      <td>0</td>\n",
              "      <td>0</td>\n",
              "      <td>0</td>\n",
              "      <td>0</td>\n",
              "      <td>0</td>\n",
              "      <td>0</td>\n",
              "      <td>0</td>\n",
              "    </tr>\n",
              "    <tr>\n",
              "      <th>24929__0_001</th>\n",
              "      <td>0</td>\n",
              "      <td>0</td>\n",
              "      <td>0</td>\n",
              "      <td>0</td>\n",
              "      <td>0</td>\n",
              "      <td>0</td>\n",
              "      <td>0</td>\n",
              "      <td>0</td>\n",
              "      <td>0</td>\n",
              "      <td>0</td>\n",
              "      <td>...</td>\n",
              "      <td>0</td>\n",
              "      <td>0</td>\n",
              "      <td>0</td>\n",
              "      <td>0</td>\n",
              "      <td>2</td>\n",
              "      <td>0</td>\n",
              "      <td>0</td>\n",
              "      <td>0</td>\n",
              "      <td>0</td>\n",
              "      <td>0</td>\n",
              "    </tr>\n",
              "    <tr>\n",
              "      <th>24929__0_002</th>\n",
              "      <td>0</td>\n",
              "      <td>0</td>\n",
              "      <td>0</td>\n",
              "      <td>0</td>\n",
              "      <td>0</td>\n",
              "      <td>0</td>\n",
              "      <td>0</td>\n",
              "      <td>0</td>\n",
              "      <td>0</td>\n",
              "      <td>0</td>\n",
              "      <td>...</td>\n",
              "      <td>0</td>\n",
              "      <td>0</td>\n",
              "      <td>0</td>\n",
              "      <td>0</td>\n",
              "      <td>0</td>\n",
              "      <td>0</td>\n",
              "      <td>0</td>\n",
              "      <td>0</td>\n",
              "      <td>0</td>\n",
              "      <td>0</td>\n",
              "    </tr>\n",
              "    <tr>\n",
              "      <th>24929__0_003</th>\n",
              "      <td>0</td>\n",
              "      <td>0</td>\n",
              "      <td>0</td>\n",
              "      <td>0</td>\n",
              "      <td>0</td>\n",
              "      <td>0</td>\n",
              "      <td>0</td>\n",
              "      <td>0</td>\n",
              "      <td>0</td>\n",
              "      <td>0</td>\n",
              "      <td>...</td>\n",
              "      <td>0</td>\n",
              "      <td>0</td>\n",
              "      <td>0</td>\n",
              "      <td>0</td>\n",
              "      <td>0</td>\n",
              "      <td>0</td>\n",
              "      <td>0</td>\n",
              "      <td>0</td>\n",
              "      <td>0</td>\n",
              "      <td>0</td>\n",
              "    </tr>\n",
              "    <tr>\n",
              "      <th>24929__0_004</th>\n",
              "      <td>0</td>\n",
              "      <td>0</td>\n",
              "      <td>0</td>\n",
              "      <td>0</td>\n",
              "      <td>0</td>\n",
              "      <td>0</td>\n",
              "      <td>0</td>\n",
              "      <td>0</td>\n",
              "      <td>0</td>\n",
              "      <td>0</td>\n",
              "      <td>...</td>\n",
              "      <td>0</td>\n",
              "      <td>0</td>\n",
              "      <td>0</td>\n",
              "      <td>0</td>\n",
              "      <td>0</td>\n",
              "      <td>0</td>\n",
              "      <td>0</td>\n",
              "      <td>0</td>\n",
              "      <td>0</td>\n",
              "      <td>0</td>\n",
              "    </tr>\n",
              "  </tbody>\n",
              "</table>\n",
              "<p>5 rows × 3360 columns</p>\n",
              "</div>\n",
              "      <button class=\"colab-df-convert\" onclick=\"convertToInteractive('df-055cec0b-f331-49da-a65e-04372e653bec')\"\n",
              "              title=\"Convert this dataframe to an interactive table.\"\n",
              "              style=\"display:none;\">\n",
              "        \n",
              "  <svg xmlns=\"http://www.w3.org/2000/svg\" height=\"24px\"viewBox=\"0 0 24 24\"\n",
              "       width=\"24px\">\n",
              "    <path d=\"M0 0h24v24H0V0z\" fill=\"none\"/>\n",
              "    <path d=\"M18.56 5.44l.94 2.06.94-2.06 2.06-.94-2.06-.94-.94-2.06-.94 2.06-2.06.94zm-11 1L8.5 8.5l.94-2.06 2.06-.94-2.06-.94L8.5 2.5l-.94 2.06-2.06.94zm10 10l.94 2.06.94-2.06 2.06-.94-2.06-.94-.94-2.06-.94 2.06-2.06.94z\"/><path d=\"M17.41 7.96l-1.37-1.37c-.4-.4-.92-.59-1.43-.59-.52 0-1.04.2-1.43.59L10.3 9.45l-7.72 7.72c-.78.78-.78 2.05 0 2.83L4 21.41c.39.39.9.59 1.41.59.51 0 1.02-.2 1.41-.59l7.78-7.78 2.81-2.81c.8-.78.8-2.07 0-2.86zM5.41 20L4 18.59l7.72-7.72 1.47 1.35L5.41 20z\"/>\n",
              "  </svg>\n",
              "      </button>\n",
              "      \n",
              "  <style>\n",
              "    .colab-df-container {\n",
              "      display:flex;\n",
              "      flex-wrap:wrap;\n",
              "      gap: 12px;\n",
              "    }\n",
              "\n",
              "    .colab-df-convert {\n",
              "      background-color: #E8F0FE;\n",
              "      border: none;\n",
              "      border-radius: 50%;\n",
              "      cursor: pointer;\n",
              "      display: none;\n",
              "      fill: #1967D2;\n",
              "      height: 32px;\n",
              "      padding: 0 0 0 0;\n",
              "      width: 32px;\n",
              "    }\n",
              "\n",
              "    .colab-df-convert:hover {\n",
              "      background-color: #E2EBFA;\n",
              "      box-shadow: 0px 1px 2px rgba(60, 64, 67, 0.3), 0px 1px 3px 1px rgba(60, 64, 67, 0.15);\n",
              "      fill: #174EA6;\n",
              "    }\n",
              "\n",
              "    [theme=dark] .colab-df-convert {\n",
              "      background-color: #3B4455;\n",
              "      fill: #D2E3FC;\n",
              "    }\n",
              "\n",
              "    [theme=dark] .colab-df-convert:hover {\n",
              "      background-color: #434B5C;\n",
              "      box-shadow: 0px 1px 3px 1px rgba(0, 0, 0, 0.15);\n",
              "      filter: drop-shadow(0px 1px 2px rgba(0, 0, 0, 0.3));\n",
              "      fill: #FFFFFF;\n",
              "    }\n",
              "  </style>\n",
              "\n",
              "      <script>\n",
              "        const buttonEl =\n",
              "          document.querySelector('#df-055cec0b-f331-49da-a65e-04372e653bec button.colab-df-convert');\n",
              "        buttonEl.style.display =\n",
              "          google.colab.kernel.accessAllowed ? 'block' : 'none';\n",
              "\n",
              "        async function convertToInteractive(key) {\n",
              "          const element = document.querySelector('#df-055cec0b-f331-49da-a65e-04372e653bec');\n",
              "          const dataTable =\n",
              "            await google.colab.kernel.invokeFunction('convertToInteractive',\n",
              "                                                     [key], {});\n",
              "          if (!dataTable) return;\n",
              "\n",
              "          const docLinkHtml = 'Like what you see? Visit the ' +\n",
              "            '<a target=\"_blank\" href=https://colab.research.google.com/notebooks/data_table.ipynb>data table notebook</a>'\n",
              "            + ' to learn more about interactive tables.';\n",
              "          element.innerHTML = '';\n",
              "          dataTable['output_type'] = 'display_data';\n",
              "          await google.colab.output.renderOutput(dataTable, element);\n",
              "          const docLink = document.createElement('div');\n",
              "          docLink.innerHTML = docLinkHtml;\n",
              "          element.appendChild(docLink);\n",
              "        }\n",
              "      </script>\n",
              "    </div>\n",
              "  </div>\n",
              "  "
            ]
          },
          "metadata": {},
          "execution_count": 49
        }
      ]
    },
    {
      "cell_type": "code",
      "source": [
        "bow_matrix.columns[100:150]"
      ],
      "metadata": {
        "colab": {
          "base_uri": "https://localhost:8080/"
        },
        "id": "dH0ofPkfrggV",
        "outputId": "76690d33-78af-4d2e-af8d-dc18416bcc49"
      },
      "execution_count": null,
      "outputs": [
        {
          "output_type": "execute_result",
          "data": {
            "text/plain": [
              "array([100, 101, 102, 103, 104, 105, 106, 107, 108, 109, 110, 111, 112,\n",
              "       113, 114, 115, 116, 117, 118, 119, 120, 121, 122, 123, 124, 125,\n",
              "       126, 127, 128, 129, 130, 131, 132, 133, 134, 135, 136, 137, 138,\n",
              "       139, 140, 141, 142, 143, 144, 145, 146, 147, 148, 149])"
            ]
          },
          "metadata": {},
          "execution_count": 33
        }
      ]
    },
    {
      "cell_type": "code",
      "source": [
        "from convokit import ConvoKitMatrix\n"
      ],
      "metadata": {
        "id": "YmQXdwHOuAOE"
      },
      "execution_count": null,
      "outputs": []
    },
    {
      "cell_type": "code",
      "source": [],
      "metadata": {
        "id": "KjH7HtwyuQTV"
      },
      "execution_count": null,
      "outputs": []
    }
  ]
}